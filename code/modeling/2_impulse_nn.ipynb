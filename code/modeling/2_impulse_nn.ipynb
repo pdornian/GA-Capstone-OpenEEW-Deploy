{
 "cells": [
  {
   "cell_type": "code",
   "execution_count": 1,
   "metadata": {},
   "outputs": [],
   "source": [
    "import folium\n",
    "import pandas as pd\n",
    "import numpy as np\n",
    "from sklearn.model_selection import train_test_split\n",
    "from tensorflow.keras.models import Sequential\n",
    "from tensorflow.keras.layers import Dense, Flatten, Dropout, Conv2D, MaxPool2D\n",
    "from tensorflow import expand_dims\n",
    "from tensorflow.keras import optimizers, regularizers\n",
    "from tensorflow.keras.callbacks import EarlyStopping, ReduceLROnPlateau\n",
    "from sklearn.metrics import r2_score"
   ]
  },
  {
   "cell_type": "markdown",
   "metadata": {},
   "source": [
    "The following is some leftover code from when I tried to make a neural network based on the peak 30 seconds of activity across sensors. As with other cases, many NN structures were tried and the one model below is not indicative of everything I did (they just never did much other than converge to the mean....in a good run)."
   ]
  },
  {
   "cell_type": "code",
   "execution_count": 2,
   "metadata": {},
   "outputs": [],
   "source": [
    "wf_df=pd.read_pickle(\"..\\..\\data\\pickled_files\\\\wf_df.p\")"
   ]
  },
  {
   "cell_type": "code",
   "execution_count": 3,
   "metadata": {},
   "outputs": [],
   "source": [
    "device_cols=wf_df.columns[wf_df.columns.str.startswith('device')]"
   ]
  },
  {
   "cell_type": "code",
   "execution_count": 4,
   "metadata": {},
   "outputs": [],
   "source": [
    "X = wf_df[device_cols]\n",
    "y= wf_df[['latitude', 'longitude']]"
   ]
  },
  {
   "cell_type": "code",
   "execution_count": 5,
   "metadata": {},
   "outputs": [],
   "source": [
    "def make_arrays(df_slice):\n",
    "    convert = np.array(df_slice)\n",
    "    output=[]\n",
    "    i=0\n",
    "    for row in convert:\n",
    "        array = np.dstack(row)\n",
    "        output.append(array)\n",
    "        i+=1\n",
    "    return np.array(output)"
   ]
  },
  {
   "cell_type": "code",
   "execution_count": 6,
   "metadata": {},
   "outputs": [],
   "source": [
    "X_arr= make_arrays(X)"
   ]
  },
  {
   "cell_type": "code",
   "execution_count": 7,
   "metadata": {},
   "outputs": [],
   "source": [
    "X_train, X_test, y_train, y_test = train_test_split(X_arr, y, random_state=69, test_size=0.2, stratify=wf_df['outlier'])"
   ]
  },
  {
   "cell_type": "code",
   "execution_count": 8,
   "metadata": {},
   "outputs": [
    {
     "name": "stdout",
     "output_type": "stream",
     "text": [
      "Model: \"sequential\"\n",
      "_________________________________________________________________\n",
      "Layer (type)                 Output Shape              Param #   \n",
      "=================================================================\n",
      "conv2d (Conv2D)              (None, 3, 30, 32)         5408      \n",
      "_________________________________________________________________\n",
      "flatten (Flatten)            (None, 2880)              0         \n",
      "_________________________________________________________________\n",
      "dense (Dense)                (None, 1024)              2950144   \n",
      "_________________________________________________________________\n",
      "dropout (Dropout)            (None, 1024)              0         \n",
      "_________________________________________________________________\n",
      "dense_1 (Dense)              (None, 2)                 2050      \n",
      "=================================================================\n",
      "Total params: 2,957,602\n",
      "Trainable params: 2,957,602\n",
      "Non-trainable params: 0\n",
      "_________________________________________________________________\n"
     ]
    }
   ],
   "source": [
    "model=Sequential()\n",
    "model.add(Conv2D(filters=32, kernel_size=(3,2), activation='relu', padding='same', input_shape=(3,30,28)))\n",
    "model.add(Flatten())\n",
    "model.add(Dense(1024, kernel_regularizer=regularizers.l2(0.01)))\n",
    "model.add(Dropout(0.5))\n",
    "model.add(Dense(2, activation='linear'))\n",
    "model.summary()"
   ]
  },
  {
   "cell_type": "code",
   "execution_count": 9,
   "metadata": {},
   "outputs": [],
   "source": [
    "opt=optimizers.Adam(learning_rate=0.001)\n",
    "model.compile(loss = 'mse', optimizer=opt, metrics=['mse'])"
   ]
  },
  {
   "cell_type": "code",
   "execution_count": 17,
   "metadata": {},
   "outputs": [
    {
     "name": "stdout",
     "output_type": "stream",
     "text": [
      "Epoch 1/100\n",
      "  1/100 [..............................] - ETA: 0s - loss: 161.8424 - mse: 87.9737WARNING:tensorflow:Callbacks method `on_train_batch_end` is slow compared to the batch time (batch time: 0.0000s vs `on_train_batch_end` time: 0.0121s). Check your callbacks.\n",
      "100/100 [==============================] - 1s 6ms/step - loss: 152.3507 - mse: 79.3121 - val_loss: 101.5781 - val_mse: 29.4403\n",
      "Epoch 2/100\n",
      "100/100 [==============================] - 0s 5ms/step - loss: 137.9750 - mse: 66.6964 - val_loss: 99.6004 - val_mse: 29.1608\n",
      "Epoch 3/100\n",
      "100/100 [==============================] - 0s 5ms/step - loss: 142.7623 - mse: 73.0896 - val_loss: 97.6143 - val_mse: 28.7144\n",
      "Epoch 4/100\n",
      "100/100 [==============================] - 1s 5ms/step - loss: 127.5824 - mse: 59.3898 - val_loss: 95.5852 - val_mse: 28.0543\n",
      "Epoch 5/100\n",
      "100/100 [==============================] - 0s 5ms/step - loss: 132.0654 - mse: 65.2290 - val_loss: 91.8886 - val_mse: 25.7767\n",
      "Epoch 6/100\n",
      "100/100 [==============================] - 0s 5ms/step - loss: 123.3279 - mse: 57.8756 - val_loss: 91.1494 - val_mse: 26.3612\n",
      "Epoch 7/100\n",
      "100/100 [==============================] - 0s 5ms/step - loss: 127.6698 - mse: 63.5167 - val_loss: 89.6826 - val_mse: 26.1769\n",
      "Epoch 8/100\n",
      "100/100 [==============================] - 0s 5ms/step - loss: 119.0443 - mse: 56.1577 - val_loss: 88.2134 - val_mse: 25.9659\n",
      "Epoch 9/100\n",
      "100/100 [==============================] - 1s 5ms/step - loss: 115.3529 - mse: 53.6980 - val_loss: 85.7527 - val_mse: 24.6978\n",
      "Epoch 10/100\n",
      "100/100 [==============================] - 1s 5ms/step - loss: 115.2297 - mse: 54.7564 - val_loss: 85.5528 - val_mse: 25.6707\n",
      "Epoch 11/100\n",
      "100/100 [==============================] - 1s 5ms/step - loss: 117.5127 - mse: 58.2028 - val_loss: 88.3232 - val_mse: 29.6037\n",
      "Epoch 12/100\n",
      "100/100 [==============================] - 0s 5ms/step - loss: 113.4178 - mse: 55.2542 - val_loss: 83.0626 - val_mse: 25.4745\n",
      "Epoch 13/100\n",
      "100/100 [==============================] - 1s 5ms/step - loss: 102.1793 - mse: 45.1467 - val_loss: 80.2178 - val_mse: 23.7315\n",
      "Epoch 14/100\n",
      "100/100 [==============================] - 0s 5ms/step - loss: 107.8054 - mse: 51.8877 - val_loss: 79.4953 - val_mse: 24.1399\n",
      "Epoch 15/100\n",
      "100/100 [==============================] - 1s 5ms/step - loss: 101.5834 - mse: 46.7804 - val_loss: 79.9678 - val_mse: 25.7142\n",
      "Epoch 16/100\n",
      "100/100 [==============================] - 1s 5ms/step - loss: 99.5027 - mse: 45.7733 - val_loss: 78.3972 - val_mse: 25.2285\n",
      "Epoch 17/100\n",
      "100/100 [==============================] - 0s 5ms/step - loss: 99.5246 - mse: 46.8939 - val_loss: 76.3310 - val_mse: 24.2549\n",
      "Epoch 18/100\n",
      "100/100 [==============================] - 0s 5ms/step - loss: 98.7887 - mse: 47.2387 - val_loss: 76.7361 - val_mse: 25.7249\n",
      "Epoch 19/100\n",
      "100/100 [==============================] - 0s 5ms/step - loss: 96.7243 - mse: 46.2357 - val_loss: 73.4313 - val_mse: 23.4835\n",
      "Epoch 20/100\n",
      "100/100 [==============================] - 0s 5ms/step - loss: 98.0440 - mse: 48.5835 - val_loss: 73.1156 - val_mse: 24.1875\n",
      "Epoch 21/100\n",
      "100/100 [==============================] - 0s 5ms/step - loss: 98.2622 - mse: 49.8572 - val_loss: 71.0760 - val_mse: 23.1923\n",
      "Epoch 22/100\n",
      "100/100 [==============================] - 0s 5ms/step - loss: 94.2598 - mse: 46.8958 - val_loss: 71.3336 - val_mse: 24.5241\n",
      "Epoch 23/100\n",
      "100/100 [==============================] - 0s 5ms/step - loss: 93.0078 - mse: 46.7033 - val_loss: 71.4590 - val_mse: 25.6431\n",
      "Epoch 24/100\n",
      "100/100 [==============================] - 0s 5ms/step - loss: 90.0677 - mse: 44.7820 - val_loss: 69.5138 - val_mse: 24.7439\n",
      "Epoch 25/100\n",
      "100/100 [==============================] - 0s 5ms/step - loss: 87.0263 - mse: 42.7655 - val_loss: 67.9208 - val_mse: 24.1596\n",
      "Epoch 26/100\n",
      "100/100 [==============================] - 0s 5ms/step - loss: 86.3558 - mse: 43.0950 - val_loss: 67.9178 - val_mse: 25.1806\n",
      "Epoch 27/100\n",
      "100/100 [==============================] - 0s 5ms/step - loss: 83.6620 - mse: 41.4275 - val_loss: 65.4738 - val_mse: 23.7597\n",
      "Epoch 28/100\n",
      "100/100 [==============================] - 0s 5ms/step - loss: 83.6621 - mse: 42.4368 - val_loss: 68.7365 - val_mse: 28.0218\n",
      "Epoch 29/100\n",
      "100/100 [==============================] - 0s 5ms/step - loss: 80.9923 - mse: 40.7772 - val_loss: 67.7720 - val_mse: 28.0493\n",
      "Epoch 30/100\n",
      "100/100 [==============================] - 0s 5ms/step - loss: 77.9114 - mse: 38.6765 - val_loss: 62.5634 - val_mse: 23.8326\n",
      "Epoch 31/100\n",
      "100/100 [==============================] - 0s 5ms/step - loss: 76.7327 - mse: 38.4738 - val_loss: 62.8206 - val_mse: 25.0652\n"
     ]
    }
   ],
   "source": [
    "early_stop=EarlyStopping(monitor='val_mse', patience=10, min_delta=0.5, restore_best_weights=True)\n",
    "reduce_lr = ReduceLROnPlateau(monitor='val_mse', factor=0.5, patience=10)\n",
    "loc_history=model.fit(X_train, y_train, validation_data=(X_test, y_test), epochs=100, batch_size=8, callbacks=[reduce_lr, early_stop])"
   ]
  },
  {
   "cell_type": "code",
   "execution_count": 14,
   "metadata": {},
   "outputs": [],
   "source": [
    "train_preds=model.predict(X_train)\n",
    "test_preds=model.predict(X_test)"
   ]
  },
  {
   "cell_type": "code",
   "execution_count": 15,
   "metadata": {},
   "outputs": [
    {
     "data": {
      "text/plain": [
       "-0.2957766394289585"
      ]
     },
     "execution_count": 15,
     "metadata": {},
     "output_type": "execute_result"
    }
   ],
   "source": [
    "r2_score(y_train, train_preds)"
   ]
  },
  {
   "cell_type": "code",
   "execution_count": 16,
   "metadata": {},
   "outputs": [
    {
     "data": {
      "text/plain": [
       "-0.3716878038747423"
      ]
     },
     "execution_count": 16,
     "metadata": {},
     "output_type": "execute_result"
    }
   ],
   "source": [
    "r2_score(y_test, test_preds)"
   ]
  }
 ],
 "metadata": {
  "kernelspec": {
   "display_name": "Python 3",
   "language": "python",
   "name": "python3"
  },
  "language_info": {
   "codemirror_mode": {
    "name": "ipython",
    "version": 3
   },
   "file_extension": ".py",
   "mimetype": "text/x-python",
   "name": "python",
   "nbconvert_exporter": "python",
   "pygments_lexer": "ipython3",
   "version": "3.8.5"
  }
 },
 "nbformat": 4,
 "nbformat_minor": 4
}
