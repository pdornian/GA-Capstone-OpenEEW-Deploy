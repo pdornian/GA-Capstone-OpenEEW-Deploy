{
 "cells": [
  {
   "cell_type": "code",
   "execution_count": 3,
   "metadata": {},
   "outputs": [],
   "source": [
    "import pandas as pd\n",
    "import numpy as np\n",
    "import folium\n",
    "import pickle\n",
    "from sklearn.model_selection import train_test_split, GridSearchCV, cross_val_score\n",
    "from sklearn.metrics import r2_score\n",
    "from sklearn.metrics import mean_squared_error, r2_score\n",
    "from sklearn.tree import DecisionTreeRegressor\n",
    "from sklearn.neighbors import KNeighborsRegressor\n",
    "from sklearn.ensemble import RandomForestClassifier, AdaBoostClassifier\n",
    "from sklearn.svm import SVC\n",
    "from sklearn.preprocessing import StandardScaler, normalize\n",
    "import matplotlib.pyplot as plt\n",
    "import seaborn as sns"
   ]
  },
  {
   "cell_type": "markdown",
   "metadata": {},
   "source": [
    "# Preamble/Summary"
   ]
  },
  {
   "cell_type": "markdown",
   "metadata": {},
   "source": [
    "The following is some scrap work related to trying to build models based of what I called the \"max impulse\" of a given device reading -- the absolute value sum of accelerometer readings over the most active 30 seconds recorded by a given device in an earthquake's timeframe. Attempts were made to predict latitude, longitude and magnitude.\n",
    "\n",
    "In a desperate attempt to find something that worked, I also restricted the problem to the three most seismically active states, and tried convert the problem to a classification model to see if any results were obtainable by just guessing if an earthquake was in a given state. This also mostly just returned the mean/baseline."
   ]
  },
  {
   "cell_type": "markdown",
   "metadata": {},
   "source": [
    "# Unedited scrap work"
   ]
  },
  {
   "cell_type": "code",
   "execution_count": 4,
   "metadata": {},
   "outputs": [],
   "source": [
    "impulse_df=pd.read_pickle('..\\..\\data\\pickled_files\\\\impulse_df.p')"
   ]
  },
  {
   "cell_type": "code",
   "execution_count": 5,
   "metadata": {},
   "outputs": [
    {
     "data": {
      "text/html": [
       "<div>\n",
       "<style scoped>\n",
       "    .dataframe tbody tr th:only-of-type {\n",
       "        vertical-align: middle;\n",
       "    }\n",
       "\n",
       "    .dataframe tbody tr th {\n",
       "        vertical-align: top;\n",
       "    }\n",
       "\n",
       "    .dataframe thead th {\n",
       "        text-align: right;\n",
       "    }\n",
       "</style>\n",
       "<table border=\"1\" class=\"dataframe\">\n",
       "  <thead>\n",
       "    <tr style=\"text-align: right;\">\n",
       "      <th></th>\n",
       "      <th>magnitude</th>\n",
       "      <th>latitude</th>\n",
       "      <th>longitude</th>\n",
       "      <th>depth</th>\n",
       "      <th>Referencia de localizacion</th>\n",
       "      <th>utc_datetime</th>\n",
       "      <th>outlier</th>\n",
       "      <th>device_1</th>\n",
       "      <th>device_2</th>\n",
       "      <th>device_4</th>\n",
       "      <th>...</th>\n",
       "      <th>device_22</th>\n",
       "      <th>device_23</th>\n",
       "      <th>device_24</th>\n",
       "      <th>device_26</th>\n",
       "      <th>device_27</th>\n",
       "      <th>device_29</th>\n",
       "      <th>device_33</th>\n",
       "      <th>device_999</th>\n",
       "      <th>state</th>\n",
       "      <th>state_lab</th>\n",
       "    </tr>\n",
       "  </thead>\n",
       "  <tbody>\n",
       "    <tr>\n",
       "      <th>0</th>\n",
       "      <td>7.4</td>\n",
       "      <td>15.8033</td>\n",
       "      <td>-96.1337</td>\n",
       "      <td>22.8</td>\n",
       "      <td>4 km al NORTE de CRUCECITA, OAX</td>\n",
       "      <td>2020-06-23 15:29:03</td>\n",
       "      <td>0</td>\n",
       "      <td>148.140313</td>\n",
       "      <td>110.446250</td>\n",
       "      <td>37.233750</td>\n",
       "      <td>...</td>\n",
       "      <td>0.000000</td>\n",
       "      <td>0.000000</td>\n",
       "      <td>11.426875</td>\n",
       "      <td>0.000000</td>\n",
       "      <td>0.000000</td>\n",
       "      <td>0.00000</td>\n",
       "      <td>0.0</td>\n",
       "      <td>0.000000</td>\n",
       "      <td>OAX</td>\n",
       "      <td>10</td>\n",
       "    </tr>\n",
       "    <tr>\n",
       "      <th>1</th>\n",
       "      <td>7.2</td>\n",
       "      <td>16.2180</td>\n",
       "      <td>-98.0135</td>\n",
       "      <td>16.0</td>\n",
       "      <td>14 km al SURESTE de PINOTEPA NACIONAL, OAX</td>\n",
       "      <td>2018-02-16 23:39:39</td>\n",
       "      <td>0</td>\n",
       "      <td>41.756625</td>\n",
       "      <td>0.000000</td>\n",
       "      <td>0.000000</td>\n",
       "      <td>...</td>\n",
       "      <td>0.000000</td>\n",
       "      <td>14.644406</td>\n",
       "      <td>0.000000</td>\n",
       "      <td>0.000000</td>\n",
       "      <td>0.000000</td>\n",
       "      <td>0.00000</td>\n",
       "      <td>0.0</td>\n",
       "      <td>0.000000</td>\n",
       "      <td>OAX</td>\n",
       "      <td>10</td>\n",
       "    </tr>\n",
       "    <tr>\n",
       "      <th>2</th>\n",
       "      <td>6.5</td>\n",
       "      <td>14.5818</td>\n",
       "      <td>-92.4807</td>\n",
       "      <td>76.2</td>\n",
       "      <td>37 km al SUROESTE de CD HIDALGO, CHIS</td>\n",
       "      <td>2019-02-01 16:14:12</td>\n",
       "      <td>0</td>\n",
       "      <td>20.434688</td>\n",
       "      <td>5.175312</td>\n",
       "      <td>7.550000</td>\n",
       "      <td>...</td>\n",
       "      <td>0.000000</td>\n",
       "      <td>0.000000</td>\n",
       "      <td>0.000000</td>\n",
       "      <td>0.000000</td>\n",
       "      <td>0.000000</td>\n",
       "      <td>0.00000</td>\n",
       "      <td>0.0</td>\n",
       "      <td>6.707500</td>\n",
       "      <td>CHIS</td>\n",
       "      <td>3</td>\n",
       "    </tr>\n",
       "    <tr>\n",
       "      <th>3</th>\n",
       "      <td>6.4</td>\n",
       "      <td>13.7792</td>\n",
       "      <td>-93.3382</td>\n",
       "      <td>9.4</td>\n",
       "      <td>162 km al SUROESTE de CD HIDALGO, CHIS</td>\n",
       "      <td>2019-11-20 04:27:06</td>\n",
       "      <td>0</td>\n",
       "      <td>1.020000</td>\n",
       "      <td>0.000000</td>\n",
       "      <td>0.000000</td>\n",
       "      <td>...</td>\n",
       "      <td>0.000000</td>\n",
       "      <td>0.000000</td>\n",
       "      <td>1.024375</td>\n",
       "      <td>0.000000</td>\n",
       "      <td>1.265937</td>\n",
       "      <td>1.05625</td>\n",
       "      <td>0.0</td>\n",
       "      <td>0.000000</td>\n",
       "      <td>CHIS</td>\n",
       "      <td>3</td>\n",
       "    </tr>\n",
       "    <tr>\n",
       "      <th>4</th>\n",
       "      <td>6.3</td>\n",
       "      <td>26.6672</td>\n",
       "      <td>-111.0790</td>\n",
       "      <td>16.1</td>\n",
       "      <td>77 km al NORESTE de LORETO, BCS</td>\n",
       "      <td>2018-01-19 16:17:45</td>\n",
       "      <td>1</td>\n",
       "      <td>6.183687</td>\n",
       "      <td>0.000000</td>\n",
       "      <td>0.000000</td>\n",
       "      <td>...</td>\n",
       "      <td>11.411563</td>\n",
       "      <td>11.090406</td>\n",
       "      <td>0.000000</td>\n",
       "      <td>0.000000</td>\n",
       "      <td>0.000000</td>\n",
       "      <td>0.00000</td>\n",
       "      <td>0.0</td>\n",
       "      <td>0.000000</td>\n",
       "      <td>BCS</td>\n",
       "      <td>1</td>\n",
       "    </tr>\n",
       "    <tr>\n",
       "      <th>...</th>\n",
       "      <td>...</td>\n",
       "      <td>...</td>\n",
       "      <td>...</td>\n",
       "      <td>...</td>\n",
       "      <td>...</td>\n",
       "      <td>...</td>\n",
       "      <td>...</td>\n",
       "      <td>...</td>\n",
       "      <td>...</td>\n",
       "      <td>...</td>\n",
       "      <td>...</td>\n",
       "      <td>...</td>\n",
       "      <td>...</td>\n",
       "      <td>...</td>\n",
       "      <td>...</td>\n",
       "      <td>...</td>\n",
       "      <td>...</td>\n",
       "      <td>...</td>\n",
       "      <td>...</td>\n",
       "      <td>...</td>\n",
       "      <td>...</td>\n",
       "    </tr>\n",
       "    <tr>\n",
       "      <th>995</th>\n",
       "      <td>4.3</td>\n",
       "      <td>15.5190</td>\n",
       "      <td>-94.9390</td>\n",
       "      <td>21.5</td>\n",
       "      <td>78 km al SURESTE de SALINA CRUZ, OAX</td>\n",
       "      <td>2019-03-28 09:08:36</td>\n",
       "      <td>0</td>\n",
       "      <td>18.008125</td>\n",
       "      <td>17.935000</td>\n",
       "      <td>17.329062</td>\n",
       "      <td>...</td>\n",
       "      <td>0.000000</td>\n",
       "      <td>0.000000</td>\n",
       "      <td>0.000000</td>\n",
       "      <td>0.000000</td>\n",
       "      <td>0.000000</td>\n",
       "      <td>0.00000</td>\n",
       "      <td>0.0</td>\n",
       "      <td>8.268438</td>\n",
       "      <td>OAX</td>\n",
       "      <td>10</td>\n",
       "    </tr>\n",
       "    <tr>\n",
       "      <th>996</th>\n",
       "      <td>4.3</td>\n",
       "      <td>14.5795</td>\n",
       "      <td>-93.7258</td>\n",
       "      <td>20.1</td>\n",
       "      <td>131 km al SUROESTE de MAPASTEPEC, CHIS</td>\n",
       "      <td>2019-02-25 19:38:56</td>\n",
       "      <td>0</td>\n",
       "      <td>6.294062</td>\n",
       "      <td>11.402188</td>\n",
       "      <td>4.215313</td>\n",
       "      <td>...</td>\n",
       "      <td>0.000000</td>\n",
       "      <td>0.000000</td>\n",
       "      <td>2.317188</td>\n",
       "      <td>10.243125</td>\n",
       "      <td>0.000000</td>\n",
       "      <td>0.00000</td>\n",
       "      <td>0.0</td>\n",
       "      <td>22.031875</td>\n",
       "      <td>CHIS</td>\n",
       "      <td>3</td>\n",
       "    </tr>\n",
       "    <tr>\n",
       "      <th>997</th>\n",
       "      <td>4.3</td>\n",
       "      <td>14.4045</td>\n",
       "      <td>-93.9323</td>\n",
       "      <td>12.5</td>\n",
       "      <td>160 km al SUROESTE de MAPASTEPEC, CHIS</td>\n",
       "      <td>2019-02-25 19:36:46</td>\n",
       "      <td>0</td>\n",
       "      <td>6.294062</td>\n",
       "      <td>11.627812</td>\n",
       "      <td>4.215313</td>\n",
       "      <td>...</td>\n",
       "      <td>0.000000</td>\n",
       "      <td>0.000000</td>\n",
       "      <td>2.317188</td>\n",
       "      <td>9.923438</td>\n",
       "      <td>0.000000</td>\n",
       "      <td>0.00000</td>\n",
       "      <td>0.0</td>\n",
       "      <td>22.031875</td>\n",
       "      <td>CHIS</td>\n",
       "      <td>3</td>\n",
       "    </tr>\n",
       "    <tr>\n",
       "      <th>998</th>\n",
       "      <td>4.3</td>\n",
       "      <td>19.0497</td>\n",
       "      <td>-107.4690</td>\n",
       "      <td>10.0</td>\n",
       "      <td>291 km al SUROESTE de PUERTO VALLARTA, JAL</td>\n",
       "      <td>2019-03-30 06:54:28</td>\n",
       "      <td>0</td>\n",
       "      <td>11.543438</td>\n",
       "      <td>13.703125</td>\n",
       "      <td>19.907500</td>\n",
       "      <td>...</td>\n",
       "      <td>0.000000</td>\n",
       "      <td>0.000000</td>\n",
       "      <td>0.000000</td>\n",
       "      <td>0.000000</td>\n",
       "      <td>0.000000</td>\n",
       "      <td>0.00000</td>\n",
       "      <td>0.0</td>\n",
       "      <td>0.000000</td>\n",
       "      <td>JAL</td>\n",
       "      <td>8</td>\n",
       "    </tr>\n",
       "    <tr>\n",
       "      <th>999</th>\n",
       "      <td>4.3</td>\n",
       "      <td>14.0527</td>\n",
       "      <td>-92.7297</td>\n",
       "      <td>10.0</td>\n",
       "      <td>93 km al SUROESTE de CD HIDALGO, CHIS</td>\n",
       "      <td>2019-02-25 00:47:11</td>\n",
       "      <td>0</td>\n",
       "      <td>13.691875</td>\n",
       "      <td>14.257188</td>\n",
       "      <td>0.000000</td>\n",
       "      <td>...</td>\n",
       "      <td>0.000000</td>\n",
       "      <td>0.000000</td>\n",
       "      <td>0.000000</td>\n",
       "      <td>9.018437</td>\n",
       "      <td>0.000000</td>\n",
       "      <td>0.00000</td>\n",
       "      <td>0.0</td>\n",
       "      <td>14.632187</td>\n",
       "      <td>CHIS</td>\n",
       "      <td>3</td>\n",
       "    </tr>\n",
       "  </tbody>\n",
       "</table>\n",
       "<p>1000 rows × 37 columns</p>\n",
       "</div>"
      ],
      "text/plain": [
       "     magnitude  latitude  longitude  depth  \\\n",
       "0          7.4   15.8033   -96.1337   22.8   \n",
       "1          7.2   16.2180   -98.0135   16.0   \n",
       "2          6.5   14.5818   -92.4807   76.2   \n",
       "3          6.4   13.7792   -93.3382    9.4   \n",
       "4          6.3   26.6672  -111.0790   16.1   \n",
       "..         ...       ...        ...    ...   \n",
       "995        4.3   15.5190   -94.9390   21.5   \n",
       "996        4.3   14.5795   -93.7258   20.1   \n",
       "997        4.3   14.4045   -93.9323   12.5   \n",
       "998        4.3   19.0497  -107.4690   10.0   \n",
       "999        4.3   14.0527   -92.7297   10.0   \n",
       "\n",
       "                     Referencia de localizacion        utc_datetime  outlier  \\\n",
       "0               4 km al NORTE de CRUCECITA, OAX 2020-06-23 15:29:03        0   \n",
       "1    14 km al SURESTE de PINOTEPA NACIONAL, OAX 2018-02-16 23:39:39        0   \n",
       "2         37 km al SUROESTE de CD HIDALGO, CHIS 2019-02-01 16:14:12        0   \n",
       "3        162 km al SUROESTE de CD HIDALGO, CHIS 2019-11-20 04:27:06        0   \n",
       "4               77 km al NORESTE de LORETO, BCS 2018-01-19 16:17:45        1   \n",
       "..                                          ...                 ...      ...   \n",
       "995        78 km al SURESTE de SALINA CRUZ, OAX 2019-03-28 09:08:36        0   \n",
       "996      131 km al SUROESTE de MAPASTEPEC, CHIS 2019-02-25 19:38:56        0   \n",
       "997      160 km al SUROESTE de MAPASTEPEC, CHIS 2019-02-25 19:36:46        0   \n",
       "998  291 km al SUROESTE de PUERTO VALLARTA, JAL 2019-03-30 06:54:28        0   \n",
       "999       93 km al SUROESTE de CD HIDALGO, CHIS 2019-02-25 00:47:11        0   \n",
       "\n",
       "       device_1    device_2   device_4  ...  device_22  device_23  device_24  \\\n",
       "0    148.140313  110.446250  37.233750  ...   0.000000   0.000000  11.426875   \n",
       "1     41.756625    0.000000   0.000000  ...   0.000000  14.644406   0.000000   \n",
       "2     20.434688    5.175312   7.550000  ...   0.000000   0.000000   0.000000   \n",
       "3      1.020000    0.000000   0.000000  ...   0.000000   0.000000   1.024375   \n",
       "4      6.183687    0.000000   0.000000  ...  11.411563  11.090406   0.000000   \n",
       "..          ...         ...        ...  ...        ...        ...        ...   \n",
       "995   18.008125   17.935000  17.329062  ...   0.000000   0.000000   0.000000   \n",
       "996    6.294062   11.402188   4.215313  ...   0.000000   0.000000   2.317188   \n",
       "997    6.294062   11.627812   4.215313  ...   0.000000   0.000000   2.317188   \n",
       "998   11.543438   13.703125  19.907500  ...   0.000000   0.000000   0.000000   \n",
       "999   13.691875   14.257188   0.000000  ...   0.000000   0.000000   0.000000   \n",
       "\n",
       "     device_26  device_27  device_29  device_33  device_999  state  state_lab  \n",
       "0     0.000000   0.000000    0.00000        0.0    0.000000    OAX         10  \n",
       "1     0.000000   0.000000    0.00000        0.0    0.000000    OAX         10  \n",
       "2     0.000000   0.000000    0.00000        0.0    6.707500   CHIS          3  \n",
       "3     0.000000   1.265937    1.05625        0.0    0.000000   CHIS          3  \n",
       "4     0.000000   0.000000    0.00000        0.0    0.000000    BCS          1  \n",
       "..         ...        ...        ...        ...         ...    ...        ...  \n",
       "995   0.000000   0.000000    0.00000        0.0    8.268438    OAX         10  \n",
       "996  10.243125   0.000000    0.00000        0.0   22.031875   CHIS          3  \n",
       "997   9.923438   0.000000    0.00000        0.0   22.031875   CHIS          3  \n",
       "998   0.000000   0.000000    0.00000        0.0    0.000000    JAL          8  \n",
       "999   9.018437   0.000000    0.00000        0.0   14.632187   CHIS          3  \n",
       "\n",
       "[1000 rows x 37 columns]"
      ]
     },
     "execution_count": 5,
     "metadata": {},
     "output_type": "execute_result"
    }
   ],
   "source": [
    "impulse_df"
   ]
  },
  {
   "cell_type": "markdown",
   "metadata": {},
   "source": [
    "Idea: Using just the max impulses calculated, see if we can get anywhere with random forests, adaboost, or support vector machines."
   ]
  },
  {
   "cell_type": "code",
   "execution_count": 3,
   "metadata": {},
   "outputs": [
    {
     "data": {
      "text/plain": [
       "0       OAX\n",
       "1       OAX\n",
       "2      CHIS\n",
       "3      CHIS\n",
       "4       BCS\n",
       "       ... \n",
       "995     OAX\n",
       "996    CHIS\n",
       "997    CHIS\n",
       "998     JAL\n",
       "999    CHIS\n",
       "Name: state, Length: 1000, dtype: object"
      ]
     },
     "execution_count": 3,
     "metadata": {},
     "output_type": "execute_result"
    }
   ],
   "source": [
    "impulse_df['state']"
   ]
  },
  {
   "cell_type": "code",
   "execution_count": 5,
   "metadata": {},
   "outputs": [],
   "source": [
    "subset = impulse_df[impulse_df['state'].isin(['OAX','CHIS','GRO'])]"
   ]
  },
  {
   "cell_type": "markdown",
   "metadata": {},
   "source": [
    "Due to the spastic nature of this data, my first hunch would be to try a random forest model. Maybe KNN might do something because the outputs should be clustered?"
   ]
  },
  {
   "cell_type": "code",
   "execution_count": 6,
   "metadata": {},
   "outputs": [],
   "source": [
    "device_cols=impulse_df.columns[impulse_df.columns.str.startswith('device')]"
   ]
  },
  {
   "cell_type": "code",
   "execution_count": 7,
   "metadata": {},
   "outputs": [
    {
     "name": "stderr",
     "output_type": "stream",
     "text": [
      "<ipython-input-7-b11b31a2021d>:1: SettingWithCopyWarning: \n",
      "A value is trying to be set on a copy of a slice from a DataFrame.\n",
      "Try using .loc[row_indexer,col_indexer] = value instead\n",
      "\n",
      "See the caveats in the documentation: https://pandas.pydata.org/pandas-docs/stable/user_guide/indexing.html#returning-a-view-versus-a-copy\n",
      "  subset['state_lab']=subset['state_lab'].map({10:0, 3: 1, 7: 2})\n"
     ]
    }
   ],
   "source": [
    "subset['state_lab']=subset['state_lab'].map({10:0, 3: 1, 7: 2})"
   ]
  },
  {
   "cell_type": "markdown",
   "metadata": {},
   "source": [
    "In this case, we're going to have to train one model each for latitude and longitude."
   ]
  },
  {
   "cell_type": "code",
   "execution_count": 9,
   "metadata": {},
   "outputs": [],
   "source": [
    "X=subset[device_cols]\n",
    "y=subset['state_lab']"
   ]
  },
  {
   "cell_type": "code",
   "execution_count": 57,
   "metadata": {},
   "outputs": [
    {
     "data": {
      "text/html": [
       "<div>\n",
       "<style scoped>\n",
       "    .dataframe tbody tr th:only-of-type {\n",
       "        vertical-align: middle;\n",
       "    }\n",
       "\n",
       "    .dataframe tbody tr th {\n",
       "        vertical-align: top;\n",
       "    }\n",
       "\n",
       "    .dataframe thead th {\n",
       "        text-align: right;\n",
       "    }\n",
       "</style>\n",
       "<table border=\"1\" class=\"dataframe\">\n",
       "  <thead>\n",
       "    <tr style=\"text-align: right;\">\n",
       "      <th></th>\n",
       "      <th>device_1</th>\n",
       "      <th>device_2</th>\n",
       "      <th>device_4</th>\n",
       "      <th>device_5</th>\n",
       "      <th>device_6</th>\n",
       "      <th>device_7</th>\n",
       "      <th>device_8</th>\n",
       "      <th>device_9</th>\n",
       "      <th>device_10</th>\n",
       "      <th>device_11</th>\n",
       "      <th>...</th>\n",
       "      <th>device_20</th>\n",
       "      <th>device_21</th>\n",
       "      <th>device_22</th>\n",
       "      <th>device_23</th>\n",
       "      <th>device_24</th>\n",
       "      <th>device_26</th>\n",
       "      <th>device_27</th>\n",
       "      <th>device_29</th>\n",
       "      <th>device_33</th>\n",
       "      <th>device_999</th>\n",
       "    </tr>\n",
       "  </thead>\n",
       "  <tbody>\n",
       "    <tr>\n",
       "      <th>0</th>\n",
       "      <td>148.140313</td>\n",
       "      <td>110.446250</td>\n",
       "      <td>37.233750</td>\n",
       "      <td>143.483437</td>\n",
       "      <td>34.835625</td>\n",
       "      <td>133.800938</td>\n",
       "      <td>0.817500</td>\n",
       "      <td>0.894062</td>\n",
       "      <td>20.766562</td>\n",
       "      <td>17.304375</td>\n",
       "      <td>...</td>\n",
       "      <td>11.315000</td>\n",
       "      <td>0.000000</td>\n",
       "      <td>0.0</td>\n",
       "      <td>0.000000</td>\n",
       "      <td>11.426875</td>\n",
       "      <td>0.000000</td>\n",
       "      <td>0.000000</td>\n",
       "      <td>0.000000</td>\n",
       "      <td>0.0</td>\n",
       "      <td>0.000000</td>\n",
       "    </tr>\n",
       "    <tr>\n",
       "      <th>1</th>\n",
       "      <td>41.756625</td>\n",
       "      <td>0.000000</td>\n",
       "      <td>0.000000</td>\n",
       "      <td>0.000000</td>\n",
       "      <td>110.759281</td>\n",
       "      <td>0.000000</td>\n",
       "      <td>68.813906</td>\n",
       "      <td>75.440250</td>\n",
       "      <td>47.495062</td>\n",
       "      <td>36.014906</td>\n",
       "      <td>...</td>\n",
       "      <td>29.755156</td>\n",
       "      <td>0.000000</td>\n",
       "      <td>0.0</td>\n",
       "      <td>14.644406</td>\n",
       "      <td>0.000000</td>\n",
       "      <td>0.000000</td>\n",
       "      <td>0.000000</td>\n",
       "      <td>0.000000</td>\n",
       "      <td>0.0</td>\n",
       "      <td>0.000000</td>\n",
       "    </tr>\n",
       "    <tr>\n",
       "      <th>2</th>\n",
       "      <td>20.434688</td>\n",
       "      <td>5.175312</td>\n",
       "      <td>7.550000</td>\n",
       "      <td>0.000000</td>\n",
       "      <td>10.562188</td>\n",
       "      <td>14.421563</td>\n",
       "      <td>0.000000</td>\n",
       "      <td>15.708750</td>\n",
       "      <td>0.000000</td>\n",
       "      <td>6.856875</td>\n",
       "      <td>...</td>\n",
       "      <td>6.847500</td>\n",
       "      <td>17.646563</td>\n",
       "      <td>0.0</td>\n",
       "      <td>0.000000</td>\n",
       "      <td>0.000000</td>\n",
       "      <td>0.000000</td>\n",
       "      <td>0.000000</td>\n",
       "      <td>0.000000</td>\n",
       "      <td>0.0</td>\n",
       "      <td>6.707500</td>\n",
       "    </tr>\n",
       "    <tr>\n",
       "      <th>3</th>\n",
       "      <td>1.020000</td>\n",
       "      <td>0.000000</td>\n",
       "      <td>0.000000</td>\n",
       "      <td>4.010625</td>\n",
       "      <td>0.000000</td>\n",
       "      <td>0.000000</td>\n",
       "      <td>0.000000</td>\n",
       "      <td>1.047500</td>\n",
       "      <td>0.000000</td>\n",
       "      <td>0.852188</td>\n",
       "      <td>...</td>\n",
       "      <td>0.000000</td>\n",
       "      <td>0.930938</td>\n",
       "      <td>0.0</td>\n",
       "      <td>0.000000</td>\n",
       "      <td>1.024375</td>\n",
       "      <td>0.000000</td>\n",
       "      <td>1.265937</td>\n",
       "      <td>1.056250</td>\n",
       "      <td>0.0</td>\n",
       "      <td>0.000000</td>\n",
       "    </tr>\n",
       "    <tr>\n",
       "      <th>6</th>\n",
       "      <td>2.559375</td>\n",
       "      <td>5.543437</td>\n",
       "      <td>1.733125</td>\n",
       "      <td>41.744375</td>\n",
       "      <td>1.293750</td>\n",
       "      <td>26.040313</td>\n",
       "      <td>0.000000</td>\n",
       "      <td>1.230625</td>\n",
       "      <td>1.137813</td>\n",
       "      <td>1.069688</td>\n",
       "      <td>...</td>\n",
       "      <td>1.023438</td>\n",
       "      <td>1.068437</td>\n",
       "      <td>0.0</td>\n",
       "      <td>0.000000</td>\n",
       "      <td>1.087187</td>\n",
       "      <td>0.000000</td>\n",
       "      <td>2.442813</td>\n",
       "      <td>1.619687</td>\n",
       "      <td>0.0</td>\n",
       "      <td>0.000000</td>\n",
       "    </tr>\n",
       "    <tr>\n",
       "      <th>...</th>\n",
       "      <td>...</td>\n",
       "      <td>...</td>\n",
       "      <td>...</td>\n",
       "      <td>...</td>\n",
       "      <td>...</td>\n",
       "      <td>...</td>\n",
       "      <td>...</td>\n",
       "      <td>...</td>\n",
       "      <td>...</td>\n",
       "      <td>...</td>\n",
       "      <td>...</td>\n",
       "      <td>...</td>\n",
       "      <td>...</td>\n",
       "      <td>...</td>\n",
       "      <td>...</td>\n",
       "      <td>...</td>\n",
       "      <td>...</td>\n",
       "      <td>...</td>\n",
       "      <td>...</td>\n",
       "      <td>...</td>\n",
       "      <td>...</td>\n",
       "    </tr>\n",
       "    <tr>\n",
       "      <th>994</th>\n",
       "      <td>11.860938</td>\n",
       "      <td>8.685938</td>\n",
       "      <td>11.590000</td>\n",
       "      <td>0.000000</td>\n",
       "      <td>16.694688</td>\n",
       "      <td>25.694688</td>\n",
       "      <td>0.000000</td>\n",
       "      <td>0.000000</td>\n",
       "      <td>0.000000</td>\n",
       "      <td>3.877500</td>\n",
       "      <td>...</td>\n",
       "      <td>9.427500</td>\n",
       "      <td>0.000000</td>\n",
       "      <td>0.0</td>\n",
       "      <td>0.000000</td>\n",
       "      <td>0.000000</td>\n",
       "      <td>6.466875</td>\n",
       "      <td>0.000000</td>\n",
       "      <td>0.000000</td>\n",
       "      <td>0.0</td>\n",
       "      <td>8.072188</td>\n",
       "    </tr>\n",
       "    <tr>\n",
       "      <th>995</th>\n",
       "      <td>18.008125</td>\n",
       "      <td>17.935000</td>\n",
       "      <td>17.329062</td>\n",
       "      <td>0.000000</td>\n",
       "      <td>18.256250</td>\n",
       "      <td>27.493750</td>\n",
       "      <td>0.000000</td>\n",
       "      <td>0.000000</td>\n",
       "      <td>0.000000</td>\n",
       "      <td>3.447813</td>\n",
       "      <td>...</td>\n",
       "      <td>7.515625</td>\n",
       "      <td>0.000000</td>\n",
       "      <td>0.0</td>\n",
       "      <td>0.000000</td>\n",
       "      <td>0.000000</td>\n",
       "      <td>0.000000</td>\n",
       "      <td>0.000000</td>\n",
       "      <td>0.000000</td>\n",
       "      <td>0.0</td>\n",
       "      <td>8.268438</td>\n",
       "    </tr>\n",
       "    <tr>\n",
       "      <th>996</th>\n",
       "      <td>6.294062</td>\n",
       "      <td>11.402188</td>\n",
       "      <td>4.215313</td>\n",
       "      <td>0.000000</td>\n",
       "      <td>7.106250</td>\n",
       "      <td>6.909375</td>\n",
       "      <td>3.107813</td>\n",
       "      <td>31.665000</td>\n",
       "      <td>0.000000</td>\n",
       "      <td>2.740625</td>\n",
       "      <td>...</td>\n",
       "      <td>3.689375</td>\n",
       "      <td>5.931250</td>\n",
       "      <td>0.0</td>\n",
       "      <td>0.000000</td>\n",
       "      <td>2.317188</td>\n",
       "      <td>10.243125</td>\n",
       "      <td>0.000000</td>\n",
       "      <td>0.000000</td>\n",
       "      <td>0.0</td>\n",
       "      <td>22.031875</td>\n",
       "    </tr>\n",
       "    <tr>\n",
       "      <th>997</th>\n",
       "      <td>6.294062</td>\n",
       "      <td>11.627812</td>\n",
       "      <td>4.215313</td>\n",
       "      <td>0.000000</td>\n",
       "      <td>6.974688</td>\n",
       "      <td>7.057500</td>\n",
       "      <td>3.107813</td>\n",
       "      <td>31.667813</td>\n",
       "      <td>0.000000</td>\n",
       "      <td>2.740625</td>\n",
       "      <td>...</td>\n",
       "      <td>3.643438</td>\n",
       "      <td>5.937812</td>\n",
       "      <td>0.0</td>\n",
       "      <td>0.000000</td>\n",
       "      <td>2.317188</td>\n",
       "      <td>9.923438</td>\n",
       "      <td>0.000000</td>\n",
       "      <td>0.000000</td>\n",
       "      <td>0.0</td>\n",
       "      <td>22.031875</td>\n",
       "    </tr>\n",
       "    <tr>\n",
       "      <th>999</th>\n",
       "      <td>13.691875</td>\n",
       "      <td>14.257188</td>\n",
       "      <td>0.000000</td>\n",
       "      <td>0.000000</td>\n",
       "      <td>20.207187</td>\n",
       "      <td>2.150313</td>\n",
       "      <td>12.512188</td>\n",
       "      <td>7.549063</td>\n",
       "      <td>0.000000</td>\n",
       "      <td>6.764688</td>\n",
       "      <td>...</td>\n",
       "      <td>20.010938</td>\n",
       "      <td>10.034688</td>\n",
       "      <td>0.0</td>\n",
       "      <td>0.000000</td>\n",
       "      <td>0.000000</td>\n",
       "      <td>9.018437</td>\n",
       "      <td>0.000000</td>\n",
       "      <td>0.000000</td>\n",
       "      <td>0.0</td>\n",
       "      <td>14.632187</td>\n",
       "    </tr>\n",
       "  </tbody>\n",
       "</table>\n",
       "<p>818 rows × 28 columns</p>\n",
       "</div>"
      ],
      "text/plain": [
       "       device_1    device_2   device_4    device_5    device_6    device_7  \\\n",
       "0    148.140313  110.446250  37.233750  143.483437   34.835625  133.800938   \n",
       "1     41.756625    0.000000   0.000000    0.000000  110.759281    0.000000   \n",
       "2     20.434688    5.175312   7.550000    0.000000   10.562188   14.421563   \n",
       "3      1.020000    0.000000   0.000000    4.010625    0.000000    0.000000   \n",
       "6      2.559375    5.543437   1.733125   41.744375    1.293750   26.040313   \n",
       "..          ...         ...        ...         ...         ...         ...   \n",
       "994   11.860938    8.685938  11.590000    0.000000   16.694688   25.694688   \n",
       "995   18.008125   17.935000  17.329062    0.000000   18.256250   27.493750   \n",
       "996    6.294062   11.402188   4.215313    0.000000    7.106250    6.909375   \n",
       "997    6.294062   11.627812   4.215313    0.000000    6.974688    7.057500   \n",
       "999   13.691875   14.257188   0.000000    0.000000   20.207187    2.150313   \n",
       "\n",
       "      device_8   device_9  device_10  device_11  ...  device_20  device_21  \\\n",
       "0     0.817500   0.894062  20.766562  17.304375  ...  11.315000   0.000000   \n",
       "1    68.813906  75.440250  47.495062  36.014906  ...  29.755156   0.000000   \n",
       "2     0.000000  15.708750   0.000000   6.856875  ...   6.847500  17.646563   \n",
       "3     0.000000   1.047500   0.000000   0.852188  ...   0.000000   0.930938   \n",
       "6     0.000000   1.230625   1.137813   1.069688  ...   1.023438   1.068437   \n",
       "..         ...        ...        ...        ...  ...        ...        ...   \n",
       "994   0.000000   0.000000   0.000000   3.877500  ...   9.427500   0.000000   \n",
       "995   0.000000   0.000000   0.000000   3.447813  ...   7.515625   0.000000   \n",
       "996   3.107813  31.665000   0.000000   2.740625  ...   3.689375   5.931250   \n",
       "997   3.107813  31.667813   0.000000   2.740625  ...   3.643438   5.937812   \n",
       "999  12.512188   7.549063   0.000000   6.764688  ...  20.010938  10.034688   \n",
       "\n",
       "     device_22  device_23  device_24  device_26  device_27  device_29  \\\n",
       "0          0.0   0.000000  11.426875   0.000000   0.000000   0.000000   \n",
       "1          0.0  14.644406   0.000000   0.000000   0.000000   0.000000   \n",
       "2          0.0   0.000000   0.000000   0.000000   0.000000   0.000000   \n",
       "3          0.0   0.000000   1.024375   0.000000   1.265937   1.056250   \n",
       "6          0.0   0.000000   1.087187   0.000000   2.442813   1.619687   \n",
       "..         ...        ...        ...        ...        ...        ...   \n",
       "994        0.0   0.000000   0.000000   6.466875   0.000000   0.000000   \n",
       "995        0.0   0.000000   0.000000   0.000000   0.000000   0.000000   \n",
       "996        0.0   0.000000   2.317188  10.243125   0.000000   0.000000   \n",
       "997        0.0   0.000000   2.317188   9.923438   0.000000   0.000000   \n",
       "999        0.0   0.000000   0.000000   9.018437   0.000000   0.000000   \n",
       "\n",
       "     device_33  device_999  \n",
       "0          0.0    0.000000  \n",
       "1          0.0    0.000000  \n",
       "2          0.0    6.707500  \n",
       "3          0.0    0.000000  \n",
       "6          0.0    0.000000  \n",
       "..         ...         ...  \n",
       "994        0.0    8.072188  \n",
       "995        0.0    8.268438  \n",
       "996        0.0   22.031875  \n",
       "997        0.0   22.031875  \n",
       "999        0.0   14.632187  \n",
       "\n",
       "[818 rows x 28 columns]"
      ]
     },
     "execution_count": 57,
     "metadata": {},
     "output_type": "execute_result"
    }
   ],
   "source": [
    "X"
   ]
  },
  {
   "cell_type": "code",
   "execution_count": 60,
   "metadata": {},
   "outputs": [],
   "source": [
    "X_norm=normalize(X)"
   ]
  },
  {
   "cell_type": "code",
   "execution_count": 11,
   "metadata": {},
   "outputs": [
    {
     "data": {
      "text/plain": [
       "0    378\n",
       "1    335\n",
       "2    105\n",
       "Name: state_lab, dtype: int64"
      ]
     },
     "execution_count": 11,
     "metadata": {},
     "output_type": "execute_result"
    }
   ],
   "source": []
  },
  {
   "cell_type": "code",
   "execution_count": 91,
   "metadata": {},
   "outputs": [],
   "source": [
    "X_train, X_test, y_train, y_test= train_test_split(X, y, test_size=0.2, random_state=69, stratify=y)"
   ]
  },
  {
   "cell_type": "code",
   "execution_count": 16,
   "metadata": {},
   "outputs": [
    {
     "data": {
      "text/plain": [
       "0    302\n",
       "1    268\n",
       "2     84\n",
       "Name: state_lab, dtype: int64"
      ]
     },
     "execution_count": 16,
     "metadata": {},
     "output_type": "execute_result"
    }
   ],
   "source": [
    "y_train.value_counts()"
   ]
  },
  {
   "cell_type": "code",
   "execution_count": 13,
   "metadata": {},
   "outputs": [
    {
     "data": {
      "text/plain": [
       "<AxesSubplot:xlabel='latitude', ylabel='Count'>"
      ]
     },
     "execution_count": 13,
     "metadata": {},
     "output_type": "execute_result"
    },
    {
     "data": {
      "image/png": "[encoded data removed]",
      "text/plain": [
       "<Figure size 432x288 with 1 Axes>"
      ]
     },
     "metadata": {
      "needs_background": "light"
     },
     "output_type": "display_data"
    }
   ],
   "source": [
    "sns.histplot(data=impulse_df, x='latitude')"
   ]
  },
  {
   "cell_type": "code",
   "execution_count": 14,
   "metadata": {
    "scrolled": false
   },
   "outputs": [
    {
     "data": {
      "text/html": [
       "<div>\n",
       "<style scoped>\n",
       "    .dataframe tbody tr th:only-of-type {\n",
       "        vertical-align: middle;\n",
       "    }\n",
       "\n",
       "    .dataframe tbody tr th {\n",
       "        vertical-align: top;\n",
       "    }\n",
       "\n",
       "    .dataframe thead th {\n",
       "        text-align: right;\n",
       "    }\n",
       "</style>\n",
       "<table border=\"1\" class=\"dataframe\">\n",
       "  <thead>\n",
       "    <tr style=\"text-align: right;\">\n",
       "      <th></th>\n",
       "      <th>device_1</th>\n",
       "      <th>device_2</th>\n",
       "      <th>device_4</th>\n",
       "      <th>device_5</th>\n",
       "      <th>device_6</th>\n",
       "      <th>device_7</th>\n",
       "      <th>device_8</th>\n",
       "      <th>device_9</th>\n",
       "      <th>device_10</th>\n",
       "      <th>device_11</th>\n",
       "      <th>...</th>\n",
       "      <th>device_20</th>\n",
       "      <th>device_21</th>\n",
       "      <th>device_22</th>\n",
       "      <th>device_23</th>\n",
       "      <th>device_24</th>\n",
       "      <th>device_26</th>\n",
       "      <th>device_27</th>\n",
       "      <th>device_29</th>\n",
       "      <th>device_33</th>\n",
       "      <th>device_999</th>\n",
       "    </tr>\n",
       "  </thead>\n",
       "  <tbody>\n",
       "    <tr>\n",
       "      <th>count</th>\n",
       "      <td>928.000000</td>\n",
       "      <td>928.000000</td>\n",
       "      <td>928.000000</td>\n",
       "      <td>928.000000</td>\n",
       "      <td>928.000000</td>\n",
       "      <td>928.000000</td>\n",
       "      <td>928.000000</td>\n",
       "      <td>928.000000</td>\n",
       "      <td>928.000000</td>\n",
       "      <td>928.000000</td>\n",
       "      <td>...</td>\n",
       "      <td>928.000000</td>\n",
       "      <td>928.000000</td>\n",
       "      <td>928.000000</td>\n",
       "      <td>928.000000</td>\n",
       "      <td>928.000000</td>\n",
       "      <td>928.000000</td>\n",
       "      <td>928.000000</td>\n",
       "      <td>928.000000</td>\n",
       "      <td>928.000000</td>\n",
       "      <td>928.000000</td>\n",
       "    </tr>\n",
       "    <tr>\n",
       "      <th>mean</th>\n",
       "      <td>6.373918</td>\n",
       "      <td>4.711915</td>\n",
       "      <td>5.517415</td>\n",
       "      <td>2.719043</td>\n",
       "      <td>6.430978</td>\n",
       "      <td>4.085222</td>\n",
       "      <td>3.449562</td>\n",
       "      <td>10.400807</td>\n",
       "      <td>2.274371</td>\n",
       "      <td>4.194175</td>\n",
       "      <td>...</td>\n",
       "      <td>5.586605</td>\n",
       "      <td>3.758136</td>\n",
       "      <td>2.223602</td>\n",
       "      <td>2.303275</td>\n",
       "      <td>3.363719</td>\n",
       "      <td>0.596010</td>\n",
       "      <td>0.228086</td>\n",
       "      <td>0.190874</td>\n",
       "      <td>0.085958</td>\n",
       "      <td>3.694567</td>\n",
       "    </tr>\n",
       "    <tr>\n",
       "      <th>std</th>\n",
       "      <td>8.849757</td>\n",
       "      <td>7.028904</td>\n",
       "      <td>7.572259</td>\n",
       "      <td>6.328665</td>\n",
       "      <td>9.021029</td>\n",
       "      <td>7.488207</td>\n",
       "      <td>7.256239</td>\n",
       "      <td>18.871107</td>\n",
       "      <td>4.723316</td>\n",
       "      <td>5.793582</td>\n",
       "      <td>...</td>\n",
       "      <td>7.325675</td>\n",
       "      <td>4.631357</td>\n",
       "      <td>5.828199</td>\n",
       "      <td>3.297809</td>\n",
       "      <td>7.050860</td>\n",
       "      <td>7.278839</td>\n",
       "      <td>0.424677</td>\n",
       "      <td>0.386587</td>\n",
       "      <td>0.275461</td>\n",
       "      <td>5.904506</td>\n",
       "    </tr>\n",
       "    <tr>\n",
       "      <th>min</th>\n",
       "      <td>0.000000</td>\n",
       "      <td>0.000000</td>\n",
       "      <td>0.000000</td>\n",
       "      <td>0.000000</td>\n",
       "      <td>0.000000</td>\n",
       "      <td>0.000000</td>\n",
       "      <td>0.000000</td>\n",
       "      <td>0.000000</td>\n",
       "      <td>0.000000</td>\n",
       "      <td>0.000000</td>\n",
       "      <td>...</td>\n",
       "      <td>0.000000</td>\n",
       "      <td>0.000000</td>\n",
       "      <td>0.000000</td>\n",
       "      <td>0.000000</td>\n",
       "      <td>0.000000</td>\n",
       "      <td>0.000000</td>\n",
       "      <td>0.000000</td>\n",
       "      <td>0.000000</td>\n",
       "      <td>0.000000</td>\n",
       "      <td>0.000000</td>\n",
       "    </tr>\n",
       "    <tr>\n",
       "      <th>25%</th>\n",
       "      <td>0.925938</td>\n",
       "      <td>0.000000</td>\n",
       "      <td>0.885703</td>\n",
       "      <td>0.000000</td>\n",
       "      <td>0.960000</td>\n",
       "      <td>0.000000</td>\n",
       "      <td>0.000000</td>\n",
       "      <td>0.943281</td>\n",
       "      <td>0.000000</td>\n",
       "      <td>0.900938</td>\n",
       "      <td>...</td>\n",
       "      <td>0.945859</td>\n",
       "      <td>0.887031</td>\n",
       "      <td>0.000000</td>\n",
       "      <td>0.000000</td>\n",
       "      <td>0.000000</td>\n",
       "      <td>0.000000</td>\n",
       "      <td>0.000000</td>\n",
       "      <td>0.000000</td>\n",
       "      <td>0.000000</td>\n",
       "      <td>0.000000</td>\n",
       "    </tr>\n",
       "    <tr>\n",
       "      <th>50%</th>\n",
       "      <td>2.123438</td>\n",
       "      <td>1.009688</td>\n",
       "      <td>0.975469</td>\n",
       "      <td>0.958438</td>\n",
       "      <td>2.754500</td>\n",
       "      <td>0.978125</td>\n",
       "      <td>0.882969</td>\n",
       "      <td>1.078594</td>\n",
       "      <td>0.000000</td>\n",
       "      <td>1.012656</td>\n",
       "      <td>...</td>\n",
       "      <td>2.233172</td>\n",
       "      <td>1.011406</td>\n",
       "      <td>0.000000</td>\n",
       "      <td>0.000000</td>\n",
       "      <td>0.995625</td>\n",
       "      <td>0.000000</td>\n",
       "      <td>0.000000</td>\n",
       "      <td>0.000000</td>\n",
       "      <td>0.000000</td>\n",
       "      <td>0.000000</td>\n",
       "    </tr>\n",
       "    <tr>\n",
       "      <th>75%</th>\n",
       "      <td>9.623055</td>\n",
       "      <td>7.669250</td>\n",
       "      <td>9.838883</td>\n",
       "      <td>3.364320</td>\n",
       "      <td>8.836031</td>\n",
       "      <td>6.388562</td>\n",
       "      <td>3.884523</td>\n",
       "      <td>11.363859</td>\n",
       "      <td>1.061875</td>\n",
       "      <td>5.331656</td>\n",
       "      <td>...</td>\n",
       "      <td>8.016906</td>\n",
       "      <td>6.190875</td>\n",
       "      <td>0.000000</td>\n",
       "      <td>4.373219</td>\n",
       "      <td>2.868945</td>\n",
       "      <td>0.000000</td>\n",
       "      <td>0.000000</td>\n",
       "      <td>0.000000</td>\n",
       "      <td>0.000000</td>\n",
       "      <td>6.147234</td>\n",
       "    </tr>\n",
       "    <tr>\n",
       "      <th>max</th>\n",
       "      <td>148.140313</td>\n",
       "      <td>110.446250</td>\n",
       "      <td>45.206156</td>\n",
       "      <td>143.483437</td>\n",
       "      <td>110.759281</td>\n",
       "      <td>133.800938</td>\n",
       "      <td>68.813906</td>\n",
       "      <td>116.009125</td>\n",
       "      <td>47.495062</td>\n",
       "      <td>36.014906</td>\n",
       "      <td>...</td>\n",
       "      <td>42.974375</td>\n",
       "      <td>21.066875</td>\n",
       "      <td>36.665437</td>\n",
       "      <td>15.729281</td>\n",
       "      <td>51.194688</td>\n",
       "      <td>155.416875</td>\n",
       "      <td>2.652188</td>\n",
       "      <td>1.619687</td>\n",
       "      <td>1.765312</td>\n",
       "      <td>29.554156</td>\n",
       "    </tr>\n",
       "  </tbody>\n",
       "</table>\n",
       "<p>8 rows × 28 columns</p>\n",
       "</div>"
      ],
      "text/plain": [
       "         device_1    device_2    device_4    device_5    device_6    device_7  \\\n",
       "count  928.000000  928.000000  928.000000  928.000000  928.000000  928.000000   \n",
       "mean     6.373918    4.711915    5.517415    2.719043    6.430978    4.085222   \n",
       "std      8.849757    7.028904    7.572259    6.328665    9.021029    7.488207   \n",
       "min      0.000000    0.000000    0.000000    0.000000    0.000000    0.000000   \n",
       "25%      0.925938    0.000000    0.885703    0.000000    0.960000    0.000000   \n",
       "50%      2.123438    1.009688    0.975469    0.958438    2.754500    0.978125   \n",
       "75%      9.623055    7.669250    9.838883    3.364320    8.836031    6.388562   \n",
       "max    148.140313  110.446250   45.206156  143.483437  110.759281  133.800938   \n",
       "\n",
       "         device_8    device_9   device_10   device_11  ...   device_20  \\\n",
       "count  928.000000  928.000000  928.000000  928.000000  ...  928.000000   \n",
       "mean     3.449562   10.400807    2.274371    4.194175  ...    5.586605   \n",
       "std      7.256239   18.871107    4.723316    5.793582  ...    7.325675   \n",
       "min      0.000000    0.000000    0.000000    0.000000  ...    0.000000   \n",
       "25%      0.000000    0.943281    0.000000    0.900938  ...    0.945859   \n",
       "50%      0.882969    1.078594    0.000000    1.012656  ...    2.233172   \n",
       "75%      3.884523   11.363859    1.061875    5.331656  ...    8.016906   \n",
       "max     68.813906  116.009125   47.495062   36.014906  ...   42.974375   \n",
       "\n",
       "        device_21   device_22   device_23   device_24   device_26   device_27  \\\n",
       "count  928.000000  928.000000  928.000000  928.000000  928.000000  928.000000   \n",
       "mean     3.758136    2.223602    2.303275    3.363719    0.596010    0.228086   \n",
       "std      4.631357    5.828199    3.297809    7.050860    7.278839    0.424677   \n",
       "min      0.000000    0.000000    0.000000    0.000000    0.000000    0.000000   \n",
       "25%      0.887031    0.000000    0.000000    0.000000    0.000000    0.000000   \n",
       "50%      1.011406    0.000000    0.000000    0.995625    0.000000    0.000000   \n",
       "75%      6.190875    0.000000    4.373219    2.868945    0.000000    0.000000   \n",
       "max     21.066875   36.665437   15.729281   51.194688  155.416875    2.652188   \n",
       "\n",
       "        device_29   device_33  device_999  \n",
       "count  928.000000  928.000000  928.000000  \n",
       "mean     0.190874    0.085958    3.694567  \n",
       "std      0.386587    0.275461    5.904506  \n",
       "min      0.000000    0.000000    0.000000  \n",
       "25%      0.000000    0.000000    0.000000  \n",
       "50%      0.000000    0.000000    0.000000  \n",
       "75%      0.000000    0.000000    6.147234  \n",
       "max      1.619687    1.765312   29.554156  \n",
       "\n",
       "[8 rows x 28 columns]"
      ]
     },
     "execution_count": 14,
     "metadata": {},
     "output_type": "execute_result"
    }
   ],
   "source": [
    "X.describe()"
   ]
  },
  {
   "cell_type": "code",
   "execution_count": 76,
   "metadata": {},
   "outputs": [
    {
     "data": {
      "text/plain": [
       "device_6       51\n",
       "device_11      81\n",
       "device_1       95\n",
       "device_20     105\n",
       "device_14     109\n",
       "device_15     151\n",
       "device_9      196\n",
       "device_4      199\n",
       "device_21     227\n",
       "device_2      250\n",
       "device_5      252\n",
       "device_24     285\n",
       "device_7      356\n",
       "device_8      406\n",
       "device_10     466\n",
       "device_18     506\n",
       "device_13     506\n",
       "device_16     526\n",
       "device_999    529\n",
       "device_17     541\n",
       "device_23     558\n",
       "device_19     699\n",
       "device_27     712\n",
       "device_29     744\n",
       "device_12     763\n",
       "device_22     768\n",
       "device_33     844\n",
       "device_26     867\n",
       "dtype: int64"
      ]
     },
     "execution_count": 76,
     "metadata": {},
     "output_type": "execute_result"
    }
   ],
   "source": []
  },
  {
   "cell_type": "code",
   "execution_count": 72,
   "metadata": {},
   "outputs": [
    {
     "data": {
      "text/html": [
       "<div>\n",
       "<style scoped>\n",
       "    .dataframe tbody tr th:only-of-type {\n",
       "        vertical-align: middle;\n",
       "    }\n",
       "\n",
       "    .dataframe tbody tr th {\n",
       "        vertical-align: top;\n",
       "    }\n",
       "\n",
       "    .dataframe thead th {\n",
       "        text-align: right;\n",
       "    }\n",
       "</style>\n",
       "<table border=\"1\" class=\"dataframe\">\n",
       "  <thead>\n",
       "    <tr style=\"text-align: right;\">\n",
       "      <th></th>\n",
       "      <th>device_1</th>\n",
       "      <th>device_2</th>\n",
       "      <th>device_4</th>\n",
       "      <th>device_5</th>\n",
       "      <th>device_6</th>\n",
       "      <th>device_7</th>\n",
       "      <th>device_8</th>\n",
       "      <th>device_9</th>\n",
       "      <th>device_10</th>\n",
       "      <th>device_11</th>\n",
       "      <th>...</th>\n",
       "      <th>device_20</th>\n",
       "      <th>device_21</th>\n",
       "      <th>device_22</th>\n",
       "      <th>device_23</th>\n",
       "      <th>device_24</th>\n",
       "      <th>device_26</th>\n",
       "      <th>device_27</th>\n",
       "      <th>device_29</th>\n",
       "      <th>device_33</th>\n",
       "      <th>device_999</th>\n",
       "    </tr>\n",
       "  </thead>\n",
       "  <tbody>\n",
       "    <tr>\n",
       "      <th>0</th>\n",
       "      <td>148.140313</td>\n",
       "      <td>110.446250</td>\n",
       "      <td>37.233750</td>\n",
       "      <td>143.483437</td>\n",
       "      <td>34.835625</td>\n",
       "      <td>133.800938</td>\n",
       "      <td>0.817500</td>\n",
       "      <td>0.894062</td>\n",
       "      <td>20.766562</td>\n",
       "      <td>17.304375</td>\n",
       "      <td>...</td>\n",
       "      <td>11.315000</td>\n",
       "      <td>0.000000</td>\n",
       "      <td>0.0</td>\n",
       "      <td>0.000000</td>\n",
       "      <td>11.426875</td>\n",
       "      <td>0.000000</td>\n",
       "      <td>0.000000</td>\n",
       "      <td>0.000000</td>\n",
       "      <td>0.0</td>\n",
       "      <td>0.000000</td>\n",
       "    </tr>\n",
       "    <tr>\n",
       "      <th>1</th>\n",
       "      <td>41.756625</td>\n",
       "      <td>0.000000</td>\n",
       "      <td>0.000000</td>\n",
       "      <td>0.000000</td>\n",
       "      <td>110.759281</td>\n",
       "      <td>0.000000</td>\n",
       "      <td>68.813906</td>\n",
       "      <td>75.440250</td>\n",
       "      <td>47.495062</td>\n",
       "      <td>36.014906</td>\n",
       "      <td>...</td>\n",
       "      <td>29.755156</td>\n",
       "      <td>0.000000</td>\n",
       "      <td>0.0</td>\n",
       "      <td>14.644406</td>\n",
       "      <td>0.000000</td>\n",
       "      <td>0.000000</td>\n",
       "      <td>0.000000</td>\n",
       "      <td>0.000000</td>\n",
       "      <td>0.0</td>\n",
       "      <td>0.000000</td>\n",
       "    </tr>\n",
       "    <tr>\n",
       "      <th>2</th>\n",
       "      <td>20.434688</td>\n",
       "      <td>5.175312</td>\n",
       "      <td>7.550000</td>\n",
       "      <td>0.000000</td>\n",
       "      <td>10.562188</td>\n",
       "      <td>14.421563</td>\n",
       "      <td>0.000000</td>\n",
       "      <td>15.708750</td>\n",
       "      <td>0.000000</td>\n",
       "      <td>6.856875</td>\n",
       "      <td>...</td>\n",
       "      <td>6.847500</td>\n",
       "      <td>17.646563</td>\n",
       "      <td>0.0</td>\n",
       "      <td>0.000000</td>\n",
       "      <td>0.000000</td>\n",
       "      <td>0.000000</td>\n",
       "      <td>0.000000</td>\n",
       "      <td>0.000000</td>\n",
       "      <td>0.0</td>\n",
       "      <td>6.707500</td>\n",
       "    </tr>\n",
       "    <tr>\n",
       "      <th>3</th>\n",
       "      <td>1.020000</td>\n",
       "      <td>0.000000</td>\n",
       "      <td>0.000000</td>\n",
       "      <td>4.010625</td>\n",
       "      <td>0.000000</td>\n",
       "      <td>0.000000</td>\n",
       "      <td>0.000000</td>\n",
       "      <td>1.047500</td>\n",
       "      <td>0.000000</td>\n",
       "      <td>0.852188</td>\n",
       "      <td>...</td>\n",
       "      <td>0.000000</td>\n",
       "      <td>0.930938</td>\n",
       "      <td>0.0</td>\n",
       "      <td>0.000000</td>\n",
       "      <td>1.024375</td>\n",
       "      <td>0.000000</td>\n",
       "      <td>1.265937</td>\n",
       "      <td>1.056250</td>\n",
       "      <td>0.0</td>\n",
       "      <td>0.000000</td>\n",
       "    </tr>\n",
       "    <tr>\n",
       "      <th>6</th>\n",
       "      <td>2.559375</td>\n",
       "      <td>5.543437</td>\n",
       "      <td>1.733125</td>\n",
       "      <td>41.744375</td>\n",
       "      <td>1.293750</td>\n",
       "      <td>26.040313</td>\n",
       "      <td>0.000000</td>\n",
       "      <td>1.230625</td>\n",
       "      <td>1.137813</td>\n",
       "      <td>1.069688</td>\n",
       "      <td>...</td>\n",
       "      <td>1.023438</td>\n",
       "      <td>1.068437</td>\n",
       "      <td>0.0</td>\n",
       "      <td>0.000000</td>\n",
       "      <td>1.087187</td>\n",
       "      <td>0.000000</td>\n",
       "      <td>2.442813</td>\n",
       "      <td>1.619687</td>\n",
       "      <td>0.0</td>\n",
       "      <td>0.000000</td>\n",
       "    </tr>\n",
       "    <tr>\n",
       "      <th>...</th>\n",
       "      <td>...</td>\n",
       "      <td>...</td>\n",
       "      <td>...</td>\n",
       "      <td>...</td>\n",
       "      <td>...</td>\n",
       "      <td>...</td>\n",
       "      <td>...</td>\n",
       "      <td>...</td>\n",
       "      <td>...</td>\n",
       "      <td>...</td>\n",
       "      <td>...</td>\n",
       "      <td>...</td>\n",
       "      <td>...</td>\n",
       "      <td>...</td>\n",
       "      <td>...</td>\n",
       "      <td>...</td>\n",
       "      <td>...</td>\n",
       "      <td>...</td>\n",
       "      <td>...</td>\n",
       "      <td>...</td>\n",
       "      <td>...</td>\n",
       "    </tr>\n",
       "    <tr>\n",
       "      <th>995</th>\n",
       "      <td>18.008125</td>\n",
       "      <td>17.935000</td>\n",
       "      <td>17.329062</td>\n",
       "      <td>0.000000</td>\n",
       "      <td>18.256250</td>\n",
       "      <td>27.493750</td>\n",
       "      <td>0.000000</td>\n",
       "      <td>0.000000</td>\n",
       "      <td>0.000000</td>\n",
       "      <td>3.447813</td>\n",
       "      <td>...</td>\n",
       "      <td>7.515625</td>\n",
       "      <td>0.000000</td>\n",
       "      <td>0.0</td>\n",
       "      <td>0.000000</td>\n",
       "      <td>0.000000</td>\n",
       "      <td>0.000000</td>\n",
       "      <td>0.000000</td>\n",
       "      <td>0.000000</td>\n",
       "      <td>0.0</td>\n",
       "      <td>8.268438</td>\n",
       "    </tr>\n",
       "    <tr>\n",
       "      <th>996</th>\n",
       "      <td>6.294062</td>\n",
       "      <td>11.402188</td>\n",
       "      <td>4.215313</td>\n",
       "      <td>0.000000</td>\n",
       "      <td>7.106250</td>\n",
       "      <td>6.909375</td>\n",
       "      <td>3.107813</td>\n",
       "      <td>31.665000</td>\n",
       "      <td>0.000000</td>\n",
       "      <td>2.740625</td>\n",
       "      <td>...</td>\n",
       "      <td>3.689375</td>\n",
       "      <td>5.931250</td>\n",
       "      <td>0.0</td>\n",
       "      <td>0.000000</td>\n",
       "      <td>2.317188</td>\n",
       "      <td>10.243125</td>\n",
       "      <td>0.000000</td>\n",
       "      <td>0.000000</td>\n",
       "      <td>0.0</td>\n",
       "      <td>22.031875</td>\n",
       "    </tr>\n",
       "    <tr>\n",
       "      <th>997</th>\n",
       "      <td>6.294062</td>\n",
       "      <td>11.627812</td>\n",
       "      <td>4.215313</td>\n",
       "      <td>0.000000</td>\n",
       "      <td>6.974688</td>\n",
       "      <td>7.057500</td>\n",
       "      <td>3.107813</td>\n",
       "      <td>31.667813</td>\n",
       "      <td>0.000000</td>\n",
       "      <td>2.740625</td>\n",
       "      <td>...</td>\n",
       "      <td>3.643438</td>\n",
       "      <td>5.937812</td>\n",
       "      <td>0.0</td>\n",
       "      <td>0.000000</td>\n",
       "      <td>2.317188</td>\n",
       "      <td>9.923438</td>\n",
       "      <td>0.000000</td>\n",
       "      <td>0.000000</td>\n",
       "      <td>0.0</td>\n",
       "      <td>22.031875</td>\n",
       "    </tr>\n",
       "    <tr>\n",
       "      <th>998</th>\n",
       "      <td>11.543438</td>\n",
       "      <td>13.703125</td>\n",
       "      <td>19.907500</td>\n",
       "      <td>0.000000</td>\n",
       "      <td>8.586875</td>\n",
       "      <td>5.420000</td>\n",
       "      <td>0.000000</td>\n",
       "      <td>16.689688</td>\n",
       "      <td>0.000000</td>\n",
       "      <td>6.817813</td>\n",
       "      <td>...</td>\n",
       "      <td>11.095000</td>\n",
       "      <td>0.000000</td>\n",
       "      <td>0.0</td>\n",
       "      <td>0.000000</td>\n",
       "      <td>0.000000</td>\n",
       "      <td>0.000000</td>\n",
       "      <td>0.000000</td>\n",
       "      <td>0.000000</td>\n",
       "      <td>0.0</td>\n",
       "      <td>0.000000</td>\n",
       "    </tr>\n",
       "    <tr>\n",
       "      <th>999</th>\n",
       "      <td>13.691875</td>\n",
       "      <td>14.257188</td>\n",
       "      <td>0.000000</td>\n",
       "      <td>0.000000</td>\n",
       "      <td>20.207187</td>\n",
       "      <td>2.150313</td>\n",
       "      <td>12.512188</td>\n",
       "      <td>7.549063</td>\n",
       "      <td>0.000000</td>\n",
       "      <td>6.764688</td>\n",
       "      <td>...</td>\n",
       "      <td>20.010938</td>\n",
       "      <td>10.034688</td>\n",
       "      <td>0.0</td>\n",
       "      <td>0.000000</td>\n",
       "      <td>0.000000</td>\n",
       "      <td>9.018437</td>\n",
       "      <td>0.000000</td>\n",
       "      <td>0.000000</td>\n",
       "      <td>0.0</td>\n",
       "      <td>14.632187</td>\n",
       "    </tr>\n",
       "  </tbody>\n",
       "</table>\n",
       "<p>928 rows × 28 columns</p>\n",
       "</div>"
      ],
      "text/plain": [
       "       device_1    device_2   device_4    device_5    device_6    device_7  \\\n",
       "0    148.140313  110.446250  37.233750  143.483437   34.835625  133.800938   \n",
       "1     41.756625    0.000000   0.000000    0.000000  110.759281    0.000000   \n",
       "2     20.434688    5.175312   7.550000    0.000000   10.562188   14.421563   \n",
       "3      1.020000    0.000000   0.000000    4.010625    0.000000    0.000000   \n",
       "6      2.559375    5.543437   1.733125   41.744375    1.293750   26.040313   \n",
       "..          ...         ...        ...         ...         ...         ...   \n",
       "995   18.008125   17.935000  17.329062    0.000000   18.256250   27.493750   \n",
       "996    6.294062   11.402188   4.215313    0.000000    7.106250    6.909375   \n",
       "997    6.294062   11.627812   4.215313    0.000000    6.974688    7.057500   \n",
       "998   11.543438   13.703125  19.907500    0.000000    8.586875    5.420000   \n",
       "999   13.691875   14.257188   0.000000    0.000000   20.207187    2.150313   \n",
       "\n",
       "      device_8   device_9  device_10  device_11  ...  device_20  device_21  \\\n",
       "0     0.817500   0.894062  20.766562  17.304375  ...  11.315000   0.000000   \n",
       "1    68.813906  75.440250  47.495062  36.014906  ...  29.755156   0.000000   \n",
       "2     0.000000  15.708750   0.000000   6.856875  ...   6.847500  17.646563   \n",
       "3     0.000000   1.047500   0.000000   0.852188  ...   0.000000   0.930938   \n",
       "6     0.000000   1.230625   1.137813   1.069688  ...   1.023438   1.068437   \n",
       "..         ...        ...        ...        ...  ...        ...        ...   \n",
       "995   0.000000   0.000000   0.000000   3.447813  ...   7.515625   0.000000   \n",
       "996   3.107813  31.665000   0.000000   2.740625  ...   3.689375   5.931250   \n",
       "997   3.107813  31.667813   0.000000   2.740625  ...   3.643438   5.937812   \n",
       "998   0.000000  16.689688   0.000000   6.817813  ...  11.095000   0.000000   \n",
       "999  12.512188   7.549063   0.000000   6.764688  ...  20.010938  10.034688   \n",
       "\n",
       "     device_22  device_23  device_24  device_26  device_27  device_29  \\\n",
       "0          0.0   0.000000  11.426875   0.000000   0.000000   0.000000   \n",
       "1          0.0  14.644406   0.000000   0.000000   0.000000   0.000000   \n",
       "2          0.0   0.000000   0.000000   0.000000   0.000000   0.000000   \n",
       "3          0.0   0.000000   1.024375   0.000000   1.265937   1.056250   \n",
       "6          0.0   0.000000   1.087187   0.000000   2.442813   1.619687   \n",
       "..         ...        ...        ...        ...        ...        ...   \n",
       "995        0.0   0.000000   0.000000   0.000000   0.000000   0.000000   \n",
       "996        0.0   0.000000   2.317188  10.243125   0.000000   0.000000   \n",
       "997        0.0   0.000000   2.317188   9.923438   0.000000   0.000000   \n",
       "998        0.0   0.000000   0.000000   0.000000   0.000000   0.000000   \n",
       "999        0.0   0.000000   0.000000   9.018437   0.000000   0.000000   \n",
       "\n",
       "     device_33  device_999  \n",
       "0          0.0    0.000000  \n",
       "1          0.0    0.000000  \n",
       "2          0.0    6.707500  \n",
       "3          0.0    0.000000  \n",
       "6          0.0    0.000000  \n",
       "..         ...         ...  \n",
       "995        0.0    8.268438  \n",
       "996        0.0   22.031875  \n",
       "997        0.0   22.031875  \n",
       "998        0.0    0.000000  \n",
       "999        0.0   14.632187  \n",
       "\n",
       "[928 rows x 28 columns]"
      ]
     },
     "execution_count": 72,
     "metadata": {},
     "output_type": "execute_result"
    }
   ],
   "source": [
    "X"
   ]
  },
  {
   "cell_type": "code",
   "execution_count": 117,
   "metadata": {},
   "outputs": [],
   "source": [
    "rf=RandomForestClassifier()\n",
    "\n",
    "rf_params={'n_estimators':[50,100,150,200],\n",
    "        'max_depth':[1,3,5],\n",
    "    'min_samples_leaf': [1,2,5,10]\n",
    "           }\n",
    "\n",
    "gs_rf=GridSearchCV(rf, rf_params, cv=5, verbose=1, n_jobs=6)"
   ]
  },
  {
   "cell_type": "code",
   "execution_count": 118,
   "metadata": {
    "scrolled": true
   },
   "outputs": [
    {
     "name": "stdout",
     "output_type": "stream",
     "text": [
      "Fitting 5 folds for each of 48 candidates, totalling 240 fits\n"
     ]
    },
    {
     "name": "stderr",
     "output_type": "stream",
     "text": [
      "[Parallel(n_jobs=6)]: Using backend LokyBackend with 6 concurrent workers.\n",
      "[Parallel(n_jobs=6)]: Done  64 tasks      | elapsed:    3.0s\n",
      "[Parallel(n_jobs=6)]: Done 240 out of 240 | elapsed:   14.6s finished\n"
     ]
    },
    {
     "data": {
      "text/plain": [
       "GridSearchCV(cv=5, estimator=RandomForestClassifier(), n_jobs=6,\n",
       "             param_grid={'max_depth': [1, 3, 5],\n",
       "                         'min_samples_leaf': [1, 2, 5, 10],\n",
       "                         'n_estimators': [50, 100, 150, 200]},\n",
       "             verbose=1)"
      ]
     },
     "execution_count": 118,
     "metadata": {},
     "output_type": "execute_result"
    }
   ],
   "source": [
    "gs_rf.fit(X_train, y_train)"
   ]
  },
  {
   "cell_type": "code",
   "execution_count": 119,
   "metadata": {},
   "outputs": [
    {
     "data": {
      "text/plain": [
       "{'max_depth': 5, 'min_samples_leaf': 2, 'n_estimators': 150}"
      ]
     },
     "execution_count": 119,
     "metadata": {},
     "output_type": "execute_result"
    }
   ],
   "source": [
    "gs_rf.best_params_"
   ]
  },
  {
   "cell_type": "code",
   "execution_count": 120,
   "metadata": {},
   "outputs": [
    {
     "data": {
      "text/plain": [
       "0.5504991192014093"
      ]
     },
     "execution_count": 120,
     "metadata": {},
     "output_type": "execute_result"
    }
   ],
   "source": [
    "gs_rf.best_score_"
   ]
  },
  {
   "cell_type": "code",
   "execution_count": 121,
   "metadata": {},
   "outputs": [
    {
     "data": {
      "text/plain": [
       "0.7629969418960245"
      ]
     },
     "execution_count": 121,
     "metadata": {},
     "output_type": "execute_result"
    }
   ],
   "source": [
    "gs_rf.score(X_train, y_train)"
   ]
  },
  {
   "cell_type": "code",
   "execution_count": 122,
   "metadata": {},
   "outputs": [
    {
     "data": {
      "text/plain": [
       "0.5060975609756098"
      ]
     },
     "execution_count": 122,
     "metadata": {},
     "output_type": "execute_result"
    }
   ],
   "source": [
    "gs_rf.score(X_test, y_test)"
   ]
  },
  {
   "cell_type": "code",
   "execution_count": 29,
   "metadata": {
    "scrolled": false
   },
   "outputs": [
    {
     "data": {
      "text/plain": [
       "array([1, 0, 0, 1, 0, 0, 1, 0, 0, 0, 2, 2, 0, 1, 0, 1, 0, 0, 1, 0, 1, 0,\n",
       "       1, 1, 1, 0, 0, 0, 0, 1, 0, 1, 1, 0, 0, 1, 0, 0, 0, 0, 0, 0, 0, 1,\n",
       "       1, 1, 0, 1, 1, 0, 1, 0, 0, 1, 0, 1, 0, 1, 0, 1, 2, 0, 1, 0, 0, 1,\n",
       "       0, 1, 0, 0, 0, 0, 1, 0, 1, 0, 1, 1, 1, 0, 0, 1, 0, 0, 0, 0, 1, 1,\n",
       "       1, 0, 0, 1, 1, 1, 0, 1, 0, 1, 1, 1, 1, 0, 1, 0, 2, 0, 0, 1, 0, 1,\n",
       "       0, 0, 0, 0, 0, 0, 1, 0, 0, 0, 1, 1, 0, 1, 0, 0, 0, 0, 1, 0, 1, 0,\n",
       "       1, 1, 0, 0, 1, 0, 1, 0, 1, 1, 0, 1, 0, 1, 1, 1, 1, 0, 0, 1, 1, 0,\n",
       "       0, 1, 1, 0, 1, 0, 1, 1, 0, 1, 1, 0, 1, 0, 0, 1, 1, 1, 1, 1, 0, 1,\n",
       "       0, 0, 1, 1, 1, 0, 1, 1, 1, 0, 0, 1, 0, 1, 0, 0, 1, 0, 1, 0, 0, 1,\n",
       "       0, 0, 1, 0, 1, 1, 1, 0, 0, 0, 1, 0, 0, 0, 0, 0, 1, 1, 1, 1, 1, 0,\n",
       "       0, 0, 1, 0, 0, 1, 1, 0, 1, 0, 1, 0, 1, 1, 1, 0, 1, 1, 1, 0, 1, 1,\n",
       "       0, 0, 1, 0, 0, 1, 0, 0, 1, 1, 0, 0, 0, 1, 0, 1, 0, 1, 1, 0, 0, 0,\n",
       "       1, 0, 1, 0, 1, 1, 0, 0, 1, 0, 1, 1, 0, 1, 0, 1, 1, 1, 0, 0, 0, 1,\n",
       "       1, 1, 0, 1, 0, 1, 1, 1, 0, 1, 2, 0, 1, 0, 0, 1, 1, 1, 0, 0, 0, 1,\n",
       "       1, 2, 1, 1, 1, 0, 1, 1, 0, 0, 0, 0, 1, 1, 0, 0, 1, 1, 1, 1, 1, 0,\n",
       "       1, 1, 1, 0, 1, 1, 0, 0, 1, 0, 1, 0, 1, 1, 0, 1, 1, 0, 0, 1, 0, 0,\n",
       "       1, 1, 0, 1, 1, 0, 1, 1, 0, 1, 1, 0, 0, 1, 0, 0, 0, 1, 0, 1, 1, 1,\n",
       "       0, 1, 0, 1, 1, 1, 0, 1, 1, 0, 1, 1, 0, 1, 0, 0, 1, 0, 0, 2, 0, 0,\n",
       "       0, 0, 0, 0, 0, 1, 0, 0, 1, 0, 0, 0, 0, 1, 0, 1, 0, 0, 1, 1, 0, 0,\n",
       "       0, 0, 1, 0, 1, 1, 1, 0, 1, 1, 0, 0, 1, 0, 1, 0, 1, 0, 1, 0, 0, 1,\n",
       "       1, 1, 1, 0, 0, 1, 1, 0, 1, 0, 1, 1, 0, 0, 1, 1, 0, 1, 1, 0, 1, 1,\n",
       "       1, 1, 0, 1, 1, 1, 1, 1, 1, 0, 1, 0, 1, 1, 1, 1, 1, 0, 0, 0, 0, 0,\n",
       "       1, 1, 0, 1, 1, 0, 0, 1, 0, 1, 0, 1, 0, 0, 1, 1, 0, 0, 1, 1, 0, 1,\n",
       "       1, 0, 1, 1, 0, 0, 1, 0, 0, 1, 1, 0, 0, 0, 1, 1, 0, 0, 1, 0, 0, 1,\n",
       "       0, 0, 0, 0, 1, 0, 0, 1, 1, 0, 1, 0, 1, 1, 0, 1, 0, 1, 0, 0, 0, 0,\n",
       "       0, 1, 0, 0, 0, 0, 0, 0, 0, 1, 1, 1, 0, 1, 0, 0, 0, 1, 1, 1, 1, 1,\n",
       "       1, 1, 1, 0, 1, 0, 1, 1, 0, 1, 0, 1, 0, 0, 0, 1, 0, 1, 0, 1, 0, 1,\n",
       "       1, 0, 0, 0, 1, 1, 0, 1, 1, 2, 1, 1, 0, 1, 1, 0, 0, 0, 1, 1, 1, 1,\n",
       "       1, 0, 1, 1, 1, 1, 1, 0, 0, 0, 0, 1, 1, 1, 0, 1, 1, 0, 0, 1, 1, 0,\n",
       "       1, 0, 1, 1, 0, 1, 0, 1, 1, 1, 0, 1, 1, 0, 1, 1], dtype=int64)"
      ]
     },
     "execution_count": 29,
     "metadata": {},
     "output_type": "execute_result"
    }
   ],
   "source": [
    "gs_rf.predict(X_train)"
   ]
  },
  {
   "cell_type": "code",
   "execution_count": 44,
   "metadata": {},
   "outputs": [],
   "source": [
    "rf=RandomForestRegressor()"
   ]
  },
  {
   "cell_type": "code",
   "execution_count": 45,
   "metadata": {},
   "outputs": [
    {
     "data": {
      "text/plain": [
       "RandomForestRegressor()"
      ]
     },
     "execution_count": 45,
     "metadata": {},
     "output_type": "execute_result"
    }
   ],
   "source": [
    "rf.fit(X_train, y_train)"
   ]
  },
  {
   "cell_type": "code",
   "execution_count": 46,
   "metadata": {},
   "outputs": [
    {
     "data": {
      "text/plain": [
       "0.8526660984629905"
      ]
     },
     "execution_count": 46,
     "metadata": {},
     "output_type": "execute_result"
    }
   ],
   "source": [
    "rf.score(X_train, y_train)"
   ]
  },
  {
   "cell_type": "code",
   "execution_count": 48,
   "metadata": {},
   "outputs": [
    {
     "data": {
      "text/plain": [
       "0.024309834116766682"
      ]
     },
     "execution_count": 48,
     "metadata": {},
     "output_type": "execute_result"
    }
   ],
   "source": [
    "rf.score(X_test, y_test)"
   ]
  },
  {
   "cell_type": "code",
   "execution_count": null,
   "metadata": {},
   "outputs": [],
   "source": []
  },
  {
   "cell_type": "code",
   "execution_count": 36,
   "metadata": {},
   "outputs": [],
   "source": [
    "ar=AdaBoostClassifier(base_estimator=DecisionTreeRegressor())\n",
    "\n",
    "\n",
    "ar_params={'n_estimators':[50,100,150,200, 250, 300, 350, 400, 450, 500],\n",
    "          'base_estimator__max_depth':[1, 3]}\n",
    "\n",
    "gs_ar=GridSearchCV(ar, ar_params, cv=5, verbose=1, n_jobs=6)"
   ]
  },
  {
   "cell_type": "code",
   "execution_count": 37,
   "metadata": {},
   "outputs": [
    {
     "name": "stdout",
     "output_type": "stream",
     "text": [
      "Fitting 5 folds for each of 20 candidates, totalling 100 fits\n"
     ]
    },
    {
     "name": "stderr",
     "output_type": "stream",
     "text": [
      "[Parallel(n_jobs=6)]: Using backend LokyBackend with 6 concurrent workers.\n",
      "[Parallel(n_jobs=6)]: Done  80 tasks      | elapsed:    0.7s\n",
      "[Parallel(n_jobs=6)]: Done 100 out of 100 | elapsed:    1.0s finished\n"
     ]
    },
    {
     "data": {
      "text/plain": [
       "GridSearchCV(cv=5,\n",
       "             estimator=AdaBoostRegressor(base_estimator=DecisionTreeRegressor()),\n",
       "             n_jobs=6,\n",
       "             param_grid={'base_estimator__max_depth': [1, 3],\n",
       "                         'n_estimators': [50, 100, 150, 200, 250, 300, 350, 400,\n",
       "                                          450, 500]},\n",
       "             verbose=1)"
      ]
     },
     "execution_count": 37,
     "metadata": {},
     "output_type": "execute_result"
    }
   ],
   "source": [
    "gs_ar.fit(X_train, y_train)"
   ]
  },
  {
   "cell_type": "code",
   "execution_count": 38,
   "metadata": {},
   "outputs": [
    {
     "data": {
      "text/plain": [
       "0.03260014674682536"
      ]
     },
     "execution_count": 38,
     "metadata": {},
     "output_type": "execute_result"
    }
   ],
   "source": [
    "gs_ar.best_score_"
   ]
  },
  {
   "cell_type": "code",
   "execution_count": 33,
   "metadata": {},
   "outputs": [
    {
     "data": {
      "text/plain": [
       "{'base_estimator__max_depth': 1, 'n_estimators': 250}"
      ]
     },
     "execution_count": 33,
     "metadata": {},
     "output_type": "execute_result"
    }
   ],
   "source": [
    "gs_ar.best_params_"
   ]
  },
  {
   "cell_type": "code",
   "execution_count": 34,
   "metadata": {},
   "outputs": [
    {
     "data": {
      "text/plain": [
       "0.036684433625681856"
      ]
     },
     "execution_count": 34,
     "metadata": {},
     "output_type": "execute_result"
    }
   ],
   "source": [
    "gs_ar.score(X_train, y_train)"
   ]
  },
  {
   "cell_type": "code",
   "execution_count": 35,
   "metadata": {},
   "outputs": [
    {
     "data": {
      "text/plain": [
       "-0.023454775215803636"
      ]
     },
     "execution_count": 35,
     "metadata": {},
     "output_type": "execute_result"
    }
   ],
   "source": [
    "gs_ar.score(X_test, y_test)"
   ]
  },
  {
   "cell_type": "markdown",
   "metadata": {},
   "source": [
    "Did my imputation wreck things? Let's take the 5 most filled in columns, drop the 0 vals and see if we can get anything."
   ]
  },
  {
   "cell_type": "code",
   "execution_count": 77,
   "metadata": {
    "scrolled": true
   },
   "outputs": [
    {
     "data": {
      "text/plain": [
       "device_6       51\n",
       "device_11      81\n",
       "device_1       95\n",
       "device_20     105\n",
       "device_14     109\n",
       "device_15     151\n",
       "device_9      196\n",
       "device_4      199\n",
       "device_21     227\n",
       "device_2      250\n",
       "device_5      252\n",
       "device_24     285\n",
       "device_7      356\n",
       "device_8      406\n",
       "device_10     466\n",
       "device_18     506\n",
       "device_13     506\n",
       "device_16     526\n",
       "device_999    529\n",
       "device_17     541\n",
       "device_23     558\n",
       "device_19     699\n",
       "device_27     712\n",
       "device_29     744\n",
       "device_12     763\n",
       "device_22     768\n",
       "device_33     844\n",
       "device_26     867\n",
       "dtype: int64"
      ]
     },
     "execution_count": 77,
     "metadata": {},
     "output_type": "execute_result"
    }
   ],
   "source": [
    "X[X[device_cols] > 0 ].isna().sum().sort_values()"
   ]
  },
  {
   "cell_type": "code",
   "execution_count": 86,
   "metadata": {},
   "outputs": [],
   "source": [
    "subsample= no_outliers[['device_6', 'device_11', 'device_1', \"device_20\", \"device_14\", 'latitude', 'longitude', 'magnitude']]"
   ]
  },
  {
   "cell_type": "code",
   "execution_count": 89,
   "metadata": {
    "scrolled": true
   },
   "outputs": [
    {
     "name": "stderr",
     "output_type": "stream",
     "text": [
      "<ipython-input-89-27ddb31e49a7>:2: SettingWithCopyWarning: \n",
      "A value is trying to be set on a copy of a slice from a DataFrame.\n",
      "Try using .loc[row_indexer,col_indexer] = value instead\n",
      "\n",
      "See the caveats in the documentation: https://pandas.pydata.org/pandas-docs/stable/user_guide/indexing.html#returning-a-view-versus-a-copy\n",
      "  subsample[device]=subsample[device].map(lambda x: x if x > 0 else None)\n"
     ]
    }
   ],
   "source": [
    "for device in ['device_6', 'device_11', 'device_1', \"device_20\", \"device_14\"]:\n",
    "    subsample[device]=subsample[device].map(lambda x: x if x > 0 else None)"
   ]
  },
  {
   "cell_type": "code",
   "execution_count": 93,
   "metadata": {},
   "outputs": [],
   "source": [
    "full_subsample=subsample.dropna()"
   ]
  },
  {
   "cell_type": "code",
   "execution_count": 97,
   "metadata": {},
   "outputs": [
    {
     "data": {
      "text/html": [
       "<div>\n",
       "<style scoped>\n",
       "    .dataframe tbody tr th:only-of-type {\n",
       "        vertical-align: middle;\n",
       "    }\n",
       "\n",
       "    .dataframe tbody tr th {\n",
       "        vertical-align: top;\n",
       "    }\n",
       "\n",
       "    .dataframe thead th {\n",
       "        text-align: right;\n",
       "    }\n",
       "</style>\n",
       "<table border=\"1\" class=\"dataframe\">\n",
       "  <thead>\n",
       "    <tr style=\"text-align: right;\">\n",
       "      <th></th>\n",
       "      <th>device_6</th>\n",
       "      <th>device_11</th>\n",
       "      <th>device_1</th>\n",
       "      <th>device_20</th>\n",
       "      <th>device_14</th>\n",
       "      <th>latitude</th>\n",
       "      <th>longitude</th>\n",
       "      <th>magnitude</th>\n",
       "    </tr>\n",
       "  </thead>\n",
       "  <tbody>\n",
       "    <tr>\n",
       "      <th>count</th>\n",
       "      <td>561.000000</td>\n",
       "      <td>561.000000</td>\n",
       "      <td>561.000000</td>\n",
       "      <td>561.000000</td>\n",
       "      <td>561.000000</td>\n",
       "      <td>561.000000</td>\n",
       "      <td>561.000000</td>\n",
       "      <td>561.000000</td>\n",
       "    </tr>\n",
       "    <tr>\n",
       "      <th>mean</th>\n",
       "      <td>6.882839</td>\n",
       "      <td>4.701152</td>\n",
       "      <td>7.261176</td>\n",
       "      <td>6.093053</td>\n",
       "      <td>3.745196</td>\n",
       "      <td>15.963053</td>\n",
       "      <td>-96.249957</td>\n",
       "      <td>4.589661</td>\n",
       "    </tr>\n",
       "    <tr>\n",
       "      <th>std</th>\n",
       "      <td>9.522424</td>\n",
       "      <td>5.772285</td>\n",
       "      <td>9.771668</td>\n",
       "      <td>7.405698</td>\n",
       "      <td>3.679238</td>\n",
       "      <td>1.402465</td>\n",
       "      <td>3.843337</td>\n",
       "      <td>0.361248</td>\n",
       "    </tr>\n",
       "    <tr>\n",
       "      <th>min</th>\n",
       "      <td>0.866250</td>\n",
       "      <td>0.809063</td>\n",
       "      <td>0.842187</td>\n",
       "      <td>0.854688</td>\n",
       "      <td>0.834688</td>\n",
       "      <td>13.103500</td>\n",
       "      <td>-109.432000</td>\n",
       "      <td>4.300000</td>\n",
       "    </tr>\n",
       "    <tr>\n",
       "      <th>25%</th>\n",
       "      <td>0.967500</td>\n",
       "      <td>0.922813</td>\n",
       "      <td>0.949688</td>\n",
       "      <td>0.963750</td>\n",
       "      <td>0.947188</td>\n",
       "      <td>14.989000</td>\n",
       "      <td>-98.123200</td>\n",
       "      <td>4.400000</td>\n",
       "    </tr>\n",
       "    <tr>\n",
       "      <th>50%</th>\n",
       "      <td>4.516312</td>\n",
       "      <td>2.733719</td>\n",
       "      <td>4.802500</td>\n",
       "      <td>3.485344</td>\n",
       "      <td>2.289688</td>\n",
       "      <td>15.791700</td>\n",
       "      <td>-94.903800</td>\n",
       "      <td>4.500000</td>\n",
       "    </tr>\n",
       "    <tr>\n",
       "      <th>75%</th>\n",
       "      <td>8.743094</td>\n",
       "      <td>5.903750</td>\n",
       "      <td>10.582188</td>\n",
       "      <td>8.329625</td>\n",
       "      <td>5.624219</td>\n",
       "      <td>16.866500</td>\n",
       "      <td>-93.674000</td>\n",
       "      <td>4.700000</td>\n",
       "    </tr>\n",
       "    <tr>\n",
       "      <th>max</th>\n",
       "      <td>110.759281</td>\n",
       "      <td>36.014906</td>\n",
       "      <td>148.140313</td>\n",
       "      <td>42.974375</td>\n",
       "      <td>30.070469</td>\n",
       "      <td>20.446300</td>\n",
       "      <td>-91.589200</td>\n",
       "      <td>7.400000</td>\n",
       "    </tr>\n",
       "  </tbody>\n",
       "</table>\n",
       "</div>"
      ],
      "text/plain": [
       "         device_6   device_11    device_1   device_20   device_14    latitude  \\\n",
       "count  561.000000  561.000000  561.000000  561.000000  561.000000  561.000000   \n",
       "mean     6.882839    4.701152    7.261176    6.093053    3.745196   15.963053   \n",
       "std      9.522424    5.772285    9.771668    7.405698    3.679238    1.402465   \n",
       "min      0.866250    0.809063    0.842187    0.854688    0.834688   13.103500   \n",
       "25%      0.967500    0.922813    0.949688    0.963750    0.947188   14.989000   \n",
       "50%      4.516312    2.733719    4.802500    3.485344    2.289688   15.791700   \n",
       "75%      8.743094    5.903750   10.582188    8.329625    5.624219   16.866500   \n",
       "max    110.759281   36.014906  148.140313   42.974375   30.070469   20.446300   \n",
       "\n",
       "        longitude   magnitude  \n",
       "count  561.000000  561.000000  \n",
       "mean   -96.249957    4.589661  \n",
       "std      3.843337    0.361248  \n",
       "min   -109.432000    4.300000  \n",
       "25%    -98.123200    4.400000  \n",
       "50%    -94.903800    4.500000  \n",
       "75%    -93.674000    4.700000  \n",
       "max    -91.589200    7.400000  "
      ]
     },
     "execution_count": 97,
     "metadata": {},
     "output_type": "execute_result"
    }
   ],
   "source": [
    "full_subsample.describe()"
   ]
  },
  {
   "cell_type": "code",
   "execution_count": 94,
   "metadata": {},
   "outputs": [],
   "source": [
    "X=full_subsample.drop(columns=['latitude', 'longitude', 'magnitude'])"
   ]
  },
  {
   "cell_type": "code",
   "execution_count": 95,
   "metadata": {},
   "outputs": [],
   "source": [
    "y_lat=full_subsample['latitude']\n",
    "y_long=full_subsample['longitude']\n",
    "y_mag=full_subsample['magnitude']"
   ]
  },
  {
   "cell_type": "code",
   "execution_count": 112,
   "metadata": {},
   "outputs": [],
   "source": [
    "X_train, X_test, y_train, y_test= train_test_split(X, y_mag, test_size=0.2, random_state=69)"
   ]
  },
  {
   "cell_type": "code",
   "execution_count": 113,
   "metadata": {},
   "outputs": [],
   "source": [
    "rf=RandomForestRegressor()\n",
    "\n",
    "rf_params={'n_estimators':[25,50,100],\n",
    "        'max_depth':[None, 5, 10],\n",
    "    'min_samples_split': [2,4, 10],\n",
    "    'min_samples_leaf': [1,2,5,10],\n",
    "           }\n",
    "\n",
    "gs_rf=GridSearchCV(rf, rf_params, cv=5, verbose=1, n_jobs=6)"
   ]
  },
  {
   "cell_type": "code",
   "execution_count": 114,
   "metadata": {},
   "outputs": [
    {
     "name": "stdout",
     "output_type": "stream",
     "text": [
      "Fitting 5 folds for each of 108 candidates, totalling 540 fits\n"
     ]
    },
    {
     "name": "stderr",
     "output_type": "stream",
     "text": [
      "[Parallel(n_jobs=6)]: Using backend LokyBackend with 6 concurrent workers.\n",
      "[Parallel(n_jobs=6)]: Done  64 tasks      | elapsed:    1.9s\n",
      "[Parallel(n_jobs=6)]: Done 364 tasks      | elapsed:    9.1s\n",
      "[Parallel(n_jobs=6)]: Done 540 out of 540 | elapsed:   13.6s finished\n"
     ]
    },
    {
     "data": {
      "text/plain": [
       "GridSearchCV(cv=5, estimator=RandomForestRegressor(), n_jobs=6,\n",
       "             param_grid={'max_depth': [None, 5, 10],\n",
       "                         'min_samples_leaf': [1, 2, 5, 10],\n",
       "                         'min_samples_split': [2, 4, 10],\n",
       "                         'n_estimators': [25, 50, 100]},\n",
       "             verbose=1)"
      ]
     },
     "execution_count": 114,
     "metadata": {},
     "output_type": "execute_result"
    }
   ],
   "source": [
    "gs_rf.fit(X_train, y_train)"
   ]
  },
  {
   "cell_type": "code",
   "execution_count": 115,
   "metadata": {},
   "outputs": [
    {
     "data": {
      "text/plain": [
       "0.008000771171572408"
      ]
     },
     "execution_count": 115,
     "metadata": {},
     "output_type": "execute_result"
    }
   ],
   "source": [
    "gs_rf.best_score_"
   ]
  },
  {
   "cell_type": "code",
   "execution_count": 116,
   "metadata": {},
   "outputs": [
    {
     "data": {
      "text/plain": [
       "{'max_depth': 5,\n",
       " 'min_samples_leaf': 1,\n",
       " 'min_samples_split': 10,\n",
       " 'n_estimators': 100}"
      ]
     },
     "execution_count": 116,
     "metadata": {},
     "output_type": "execute_result"
    }
   ],
   "source": [
    "gs_rf.best_params_"
   ]
  },
  {
   "cell_type": "code",
   "execution_count": 117,
   "metadata": {},
   "outputs": [
    {
     "data": {
      "text/plain": [
       "0.36728456676657495"
      ]
     },
     "execution_count": 117,
     "metadata": {},
     "output_type": "execute_result"
    }
   ],
   "source": [
    "gs_rf.score(X_train, y_train)"
   ]
  },
  {
   "cell_type": "code",
   "execution_count": 118,
   "metadata": {
    "scrolled": true
   },
   "outputs": [
    {
     "data": {
      "text/plain": [
       "0.04831186122717335"
      ]
     },
     "execution_count": 118,
     "metadata": {},
     "output_type": "execute_result"
    }
   ],
   "source": [
    "gs_rf.score(X_test, y_test)"
   ]
  },
  {
   "cell_type": "code",
   "execution_count": 41,
   "metadata": {},
   "outputs": [],
   "source": [
    "ac=AdaBoostClassifier()\n",
    "\n",
    "\n",
    "ac_params={'n_estimators':[50,100,150,200, 250, 300, 350, 400, 450, 500]}\n",
    "\n",
    "gs_ac=GridSearchCV(ac, ac_params, cv=5, verbose=1, n_jobs=6)"
   ]
  },
  {
   "cell_type": "code",
   "execution_count": 42,
   "metadata": {},
   "outputs": [
    {
     "name": "stdout",
     "output_type": "stream",
     "text": [
      "Fitting 5 folds for each of 10 candidates, totalling 50 fits\n"
     ]
    },
    {
     "name": "stderr",
     "output_type": "stream",
     "text": [
      "[Parallel(n_jobs=6)]: Using backend LokyBackend with 6 concurrent workers.\n",
      "[Parallel(n_jobs=6)]: Done  38 tasks      | elapsed:    5.2s\n",
      "[Parallel(n_jobs=6)]: Done  50 out of  50 | elapsed:    8.0s finished\n"
     ]
    },
    {
     "data": {
      "text/plain": [
       "GridSearchCV(cv=5, estimator=AdaBoostClassifier(), n_jobs=6,\n",
       "             param_grid={'n_estimators': [50, 100, 150, 200, 250, 300, 350, 400,\n",
       "                                          450, 500]},\n",
       "             verbose=1)"
      ]
     },
     "execution_count": 42,
     "metadata": {},
     "output_type": "execute_result"
    }
   ],
   "source": [
    "gs_ac.fit(X_train, y_train)"
   ]
  },
  {
   "cell_type": "code",
   "execution_count": 43,
   "metadata": {},
   "outputs": [
    {
     "data": {
      "text/plain": [
       "{'n_estimators': 450}"
      ]
     },
     "execution_count": 43,
     "metadata": {},
     "output_type": "execute_result"
    }
   ],
   "source": [
    "gs_ac.best_params_"
   ]
  },
  {
   "cell_type": "code",
   "execution_count": 45,
   "metadata": {
    "scrolled": true
   },
   "outputs": [
    {
     "data": {
      "text/plain": [
       "0.5443687610099823"
      ]
     },
     "execution_count": 45,
     "metadata": {},
     "output_type": "execute_result"
    }
   ],
   "source": [
    "gs_ac.best_score_"
   ]
  },
  {
   "cell_type": "code",
   "execution_count": 46,
   "metadata": {},
   "outputs": [
    {
     "data": {
      "text/plain": [
       "0.764525993883792"
      ]
     },
     "execution_count": 46,
     "metadata": {},
     "output_type": "execute_result"
    }
   ],
   "source": [
    "gs_ac.score(X_train, y_train)"
   ]
  },
  {
   "cell_type": "code",
   "execution_count": 47,
   "metadata": {},
   "outputs": [
    {
     "data": {
      "text/plain": [
       "0.3780487804878049"
      ]
     },
     "execution_count": 47,
     "metadata": {},
     "output_type": "execute_result"
    }
   ],
   "source": [
    "gs_ac.score(X_test, y_test)"
   ]
  },
  {
   "cell_type": "code",
   "execution_count": 50,
   "metadata": {},
   "outputs": [],
   "source": [
    "svc=SVC()\n",
    "\n",
    "svc_params={'kernel':['poly','rbf'],\n",
    "          'degree':[3,5],\n",
    "            'coef0':[0, 1],\n",
    "           }\n",
    "\n",
    "gs_svc=GridSearchCV(svc, svc_params, cv=5, verbose=10, n_jobs=8)"
   ]
  },
  {
   "cell_type": "code",
   "execution_count": 51,
   "metadata": {},
   "outputs": [
    {
     "name": "stdout",
     "output_type": "stream",
     "text": [
      "Fitting 5 folds for each of 8 candidates, totalling 40 fits\n"
     ]
    },
    {
     "name": "stderr",
     "output_type": "stream",
     "text": [
      "[Parallel(n_jobs=8)]: Using backend LokyBackend with 8 concurrent workers.\n",
      "[Parallel(n_jobs=8)]: Done   2 tasks      | elapsed:    0.2s\n",
      "[Parallel(n_jobs=8)]: Done   9 tasks      | elapsed:    0.3s\n",
      "[Parallel(n_jobs=8)]: Done  16 tasks      | elapsed:    0.3s\n",
      "[Parallel(n_jobs=8)]: Batch computation too fast (0.1839s.) Setting batch_size=2.\n",
      "[Parallel(n_jobs=8)]: Done  25 tasks      | elapsed:    0.4s\n",
      "[Parallel(n_jobs=8)]: Done  30 out of  40 | elapsed:    0.4s remaining:    0.1s\n",
      "[Parallel(n_jobs=8)]: Done  35 out of  40 | elapsed:    0.4s remaining:    0.0s\n",
      "[Parallel(n_jobs=8)]: Done  40 out of  40 | elapsed:    1.6s remaining:    0.0s\n",
      "[Parallel(n_jobs=8)]: Done  40 out of  40 | elapsed:    1.6s finished\n"
     ]
    },
    {
     "data": {
      "text/plain": [
       "GridSearchCV(cv=5, estimator=SVC(), n_jobs=8,\n",
       "             param_grid={'coef0': [0, 1], 'degree': [3, 5],\n",
       "                         'kernel': ['poly', 'rbf']},\n",
       "             verbose=10)"
      ]
     },
     "execution_count": 51,
     "metadata": {},
     "output_type": "execute_result"
    }
   ],
   "source": [
    "gs_svc.fit(X_train, y_train)"
   ]
  },
  {
   "cell_type": "code",
   "execution_count": 52,
   "metadata": {},
   "outputs": [
    {
     "data": {
      "text/plain": [
       "{'coef0': 0, 'degree': 3, 'kernel': 'rbf'}"
      ]
     },
     "execution_count": 52,
     "metadata": {},
     "output_type": "execute_result"
    }
   ],
   "source": [
    "gs_svc.best_params_"
   ]
  },
  {
   "cell_type": "code",
   "execution_count": 53,
   "metadata": {
    "scrolled": true
   },
   "outputs": [
    {
     "data": {
      "text/plain": [
       "0.46178508514386374"
      ]
     },
     "execution_count": 53,
     "metadata": {},
     "output_type": "execute_result"
    }
   ],
   "source": [
    "gs_svc.best_score_"
   ]
  },
  {
   "cell_type": "code",
   "execution_count": 54,
   "metadata": {},
   "outputs": [
    {
     "data": {
      "text/plain": [
       "0.4617737003058104"
      ]
     },
     "execution_count": 54,
     "metadata": {},
     "output_type": "execute_result"
    }
   ],
   "source": [
    "gs_svc.score(X_train, y_train)"
   ]
  },
  {
   "cell_type": "code",
   "execution_count": 55,
   "metadata": {},
   "outputs": [
    {
     "data": {
      "text/plain": [
       "0.4634146341463415"
      ]
     },
     "execution_count": 55,
     "metadata": {},
     "output_type": "execute_result"
    }
   ],
   "source": [
    "gs_svc.score(X_test, y_test)"
   ]
  }
 ],
 "metadata": {
  "kernelspec": {
   "display_name": "Python 3",
   "language": "python",
   "name": "python3"
  },
  "language_info": {
   "codemirror_mode": {
    "name": "ipython",
    "version": 3
   },
   "file_extension": ".py",
   "mimetype": "text/x-python",
   "name": "python",
   "nbconvert_exporter": "python",
   "pygments_lexer": "ipython3",
   "version": "3.8.5"
  }
 },
 "nbformat": 4,
 "nbformat_minor": 4
}
